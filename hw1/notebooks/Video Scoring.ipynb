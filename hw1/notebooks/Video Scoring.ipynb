{
 "cells": [
  {
   "cell_type": "code",
   "execution_count": 1,
   "id": "4b94b2e0-3796-411b-ad82-1b56e7f89e1f",
   "metadata": {},
   "outputs": [
    {
     "name": "stderr",
     "output_type": "stream",
     "text": [
      "/usr/local/spark/python/pyspark/pandas/__init__.py:50: UserWarning: 'PYARROW_IGNORE_TIMEZONE' environment variable was not set. It is required to set this environment variable to '1' in both driver and executor sides if you use pyarrow>=2.0.0. pandas-on-Spark will set it for you but it does not work if there is a Spark context already launched.\n",
      "  warnings.warn(\n"
     ]
    }
   ],
   "source": [
    "import timeit\n",
    "import pyspark\n",
    "import pyspark.pandas as ps\n",
    "from pyspark.sql import SparkSession\n",
    "from pyspark.sql.functions import *\n",
    "from pyspark.sql.types import *\n",
    "from pyspark.sql.window import Window\n",
    "from pyspark.sql.column import _to_java_column\n",
    "from pyspark.sql.column import _to_seq\n",
    "\n",
    "spark = SparkSession.builder.master(\"local\") \\\n",
    "    .config('spark.sql.autoBroadcastJoinThreshold', 0) \\\n",
    "    .config('spark.sql.adaptive.enabled', 'false') \\\n",
    "    .getOrCreate()\n",
    "\n",
    "sc = spark.sparkContext"
   ]
  },
  {
   "cell_type": "markdown",
   "id": "8af12e00-7113-4c33-b9ac-17021c130f63",
   "metadata": {},
   "source": [
    "# scored_videos - датасет на основе файла USvideos.csv с добавлением колонки, содержащей скор (показатель качества) видео"
   ]
  },
  {
   "cell_type": "code",
   "execution_count": 2,
   "id": "92ef42f6-7017-4fb2-96b1-3abdb2036ae1",
   "metadata": {},
   "outputs": [
    {
     "name": "stdout",
     "output_type": "stream",
     "text": [
      "+-----------+--------------------+--------------------+-----------+--------------------+-------+------+--------+-------------+--------------------+-----+\n",
      "|   video_id|               title|       channel_title|category_id|                tags|  views| likes|dislikes|comment_total|      thumbnail_link| date|\n",
      "+-----------+--------------------+--------------------+-----------+--------------------+-------+------+--------+-------------+--------------------+-----+\n",
      "|XpVt6Z1Gjjo|1 YEAR OF VLOGGIN...|    Logan Paul Vlogs|         24|logan paul vlog|l...|4394029|320053|    5931|        46245|https://i.ytimg.c...|13.09|\n",
      "|K4wEI5zhHB0|iPhone X — Introd...|               Apple|         28|Apple|iPhone 10|i...|7860119|185853|   26679|            0|https://i.ytimg.c...|13.09|\n",
      "|cLdxuaxaQwc|         My Response|           PewDiePie|         22|              [none]|5845909|576597|   39774|       170708|https://i.ytimg.c...|13.09|\n",
      "|WYYvHb03Eog|Apple iPhone X fi...|           The Verge|         28|apple iphone x ha...|2642103| 24975|    4542|        12829|https://i.ytimg.c...|13.09|\n",
      "|sjlHnJvXdQs|   iPhone X (parody)|          jacksfilms|         23|jacksfilms|parody...|1168130| 96666|     568|         6666|https://i.ytimg.c...|13.09|\n",
      "|cMKX2tE5Luk|The Disaster Arti...|                 A24|          1|a24|a24 films|a24...|1311445| 34507|     544|         3040|https://i.ytimg.c...|13.09|\n",
      "|8wNr-NQImFg|The Check In: HUD...|Late Night with S...|         23|Late night|Seth M...| 666169|  9985|     297|         1071|https://i.ytimg.c...|13.09|\n",
      "|_HTXMhKWqnA|iPhone X Impressi...|    Marques Brownlee|         28|iPhone X|iphone x...|1728614| 74062|    2180|        15297|https://i.ytimg.c...|13.09|\n",
      "|_ANP3HR1jsM|ATTACKED BY A POL...|    RomanAtwoodVlogs|         22|Roman Atwood|Roma...|1338533| 69687|     678|         5643|https://i.ytimg.c...|13.09|\n",
      "|zgLtEob6X-Q|Honest Trailers -...|      Screen Junkies|          1|screenjunkies|scr...|1056891| 29943|     878|         4046|https://i.ytimg.c...|13.09|\n",
      "+-----------+--------------------+--------------------+-----------+--------------------+-------+------+--------+-------------+--------------------+-----+\n",
      "only showing top 10 rows\n",
      "\n"
     ]
    }
   ],
   "source": [
    "videos = spark.read.option('header', 'true').option(\"inferSchema\", \"true\").csv('../datasets/USvideos.csv')\n",
    "videos.show(10)"
   ]
  },
  {
   "cell_type": "code",
   "execution_count": null,
   "id": "40e52cc7-08b8-4c49-a587-e34a69f90bf4",
   "metadata": {},
   "outputs": [],
   "source": [
    "+-----------+--------------------+--------------------+-----------+--------------------+-------+------+--------+-------------+--------------------+-----+\n",
    "|   video_id|               title|       channel_title|category_id|                tags|  views| likes|dislikes|comment_total|      thumbnail_link| date|\n",
    "+-----------+--------------------+--------------------+-----------+--------------------+-------+------+--------+-------------+--------------------+-----+\n",
    "|XpVt6Z1Gjjo|1 YEAR OF VLOGGIN...|    Logan Paul Vlogs|         24|logan paul vlog|l...|4394029|320053|    5931|        46245|https://i.ytimg.c...|13.09|\n",
    "|K4wEI5zhHB0|iPhone X — Introd...|               Apple|         28|Apple|iPhone 10|i...|7860119|185853|   26679|            0|https://i.ytimg.c...|13.09|\n",
    "|cLdxuaxaQwc|         My Response|           PewDiePie|         22|              [none]|5845909|576597|   39774|       170708|https://i.ytimg.c...|13.09|\n",
    "|WYYvHb03Eog|Apple iPhone X fi...|           The Verge|         28|apple iphone x ha...|2642103| 24975|    4542|        12829|https://i.ytimg.c...|13.09|\n",
    "|sjlHnJvXdQs|   iPhone X (parody)|          jacksfilms|         23|jacksfilms|parody...|1168130| 96666|     568|         6666|https://i.ytimg.c...|13.09|\n",
    "|cMKX2tE5Luk|The Disaster Arti...|                 A24|          1|a24|a24 films|a24...|1311445| 34507|     544|         3040|https://i.ytimg.c...|13.09|\n",
    "|8wNr-NQImFg|The Check In: HUD...|Late Night with S...|         23|Late night|Seth M...| 666169|  9985|     297|         1071|https://i.ytimg.c...|13.09|\n",
    "|_HTXMhKWqnA|iPhone X Impressi...|    Marques Brownlee|         28|iPhone X|iphone x...|1728614| 74062|    2180|        15297|https://i.ytimg.c...|13.09|\n",
    "|_ANP3HR1jsM|ATTACKED BY A POL...|    RomanAtwoodVlogs|         22|Roman Atwood|Roma...|1338533| 69687|     678|         5643|https://i.ytimg.c...|13.09|\n",
    "|zgLtEob6X-Q|Honest Trailers -...|      Screen Junkies|          1|screenjunkies|scr...|1056891| 29943|     878|         4046|https://i.ytimg.c...|13.09|\n",
    "+-----------+--------------------+--------------------+-----------+--------------------+-------+------+--------+-------------+--------------------+-----+\n",
    "only showing top 10 rows"
   ]
  },
  {
   "cell_type": "code",
   "execution_count": 3,
   "id": "11547ce9-f26d-4382-a233-c693e6d6953e",
   "metadata": {},
   "outputs": [
    {
     "data": {
      "text/plain": [
       "7998"
      ]
     },
     "execution_count": 3,
     "metadata": {},
     "output_type": "execute_result"
    }
   ],
   "source": [
    "videos.count()"
   ]
  },
  {
   "cell_type": "code",
   "execution_count": 4,
   "id": "0f3803f5-d21c-4d5e-a567-e1e9bdbbc4ee",
   "metadata": {},
   "outputs": [
    {
     "data": {
      "text/plain": [
       "2364"
      ]
     },
     "execution_count": 4,
     "metadata": {},
     "output_type": "execute_result"
    }
   ],
   "source": [
    "videos.dropDuplicates(('video_id',)).count()"
   ]
  },
  {
   "cell_type": "code",
   "execution_count": 5,
   "id": "08c2faec-eb9e-4c96-bc88-a33bc3ae7f7b",
   "metadata": {},
   "outputs": [],
   "source": [
    "# отбираем последнюю запись для каждого видео\n",
    "windowSpec  = Window.partitionBy(\"video_id\").orderBy(col(\"date\").desc())\n",
    "\n",
    "videos_drop_dubl = videos.withColumn(\"row_number\",row_number().over(windowSpec)) \\\n",
    "                         .where(col(\"row_number\") == 1) \\\n",
    "                         .drop(\"row_number\")"
   ]
  },
  {
   "cell_type": "code",
   "execution_count": 6,
   "id": "79e04bad-1b45-4f39-a19c-6c1f81cf9d21",
   "metadata": {},
   "outputs": [
    {
     "name": "stdout",
     "output_type": "stream",
     "text": [
      "+-----------+--------------------+----------------+-----------+--------------------+-------+------+--------+-------------+--------------------+-----+\n",
      "|   video_id|               title|   channel_title|category_id|                tags|  views| likes|dislikes|comment_total|      thumbnail_link| date|\n",
      "+-----------+--------------------+----------------+-----------+--------------------+-------+------+--------+-------------+--------------------+-----+\n",
      "|4yCkkOvIkUI|EXCLUSIVE: Zonniq...|        YBF Chic|         24|              [none]|   5662|    33|      21|           13|https://i.ytimg.c...|06.10|\n",
      "|7TN09IP5JuI|Terry Crews Hallu...|  First We Feast|         26|First we feast|fw...|5066207|196868|    2083|        22920|https://i.ytimg.c...|10.10|\n",
      "|Bo-qp-Zu0OY|Meeting Talking D...|    TouringPlans|         19|talking mickey|ta...|  21654|   179|       1|           30|https://i.ytimg.c...|30.09|\n",
      "|JkqTeQHFoBY|Guardians of the ...|      Framestore|          1|marvel|vfx|CG|CGI...|  23300|   384|       1|           31|https://i.ytimg.c...|30.09|\n",
      "|K7pQsR8WFSo|Schlieren Imaging...|      Veritasium|         27|veritasium|scienc...| 633374| 29671|     284|         2200|https://i.ytimg.c...|05.10|\n",
      "|RE-far-FvRs|PUPPIES FIRST BAT...|      VLOGTOWSKI|         22|vlog|family vlog|...| 323280| 13781|     292|         2024|https://i.ytimg.c...|12.10|\n",
      "|TzyraAp3jaY|Martin Scorsese T...|     MasterClass|         27|Martin Scorsese|f...|  84257|   842|       1|           98|https://i.ytimg.c...|26.09|\n",
      "|WQjO1mMCPg4|EVERY MCDONALD'S ...|           Smosh|         23|mcdonalds|drive t...|2318203| 64553|    6770|         7843|https://i.ytimg.c...|15.10|\n",
      "|_r5eTelhpmQ|Darius Rucker - L...|DariusRuckerVEVO|         10|Darius|Rucker|Lif...|  17783|  1072|      22|           68|https://i.ytimg.c...|30.09|\n",
      "|aRgTLb5EbiQ| My Mama Wears Timbs|        Ari Fitz|         26|itsarifitz|ari fi...|  22165|  2643|      12|          259|https://i.ytimg.c...|16.10|\n",
      "+-----------+--------------------+----------------+-----------+--------------------+-------+------+--------+-------------+--------------------+-----+\n",
      "only showing top 10 rows\n",
      "\n"
     ]
    }
   ],
   "source": [
    "videos_drop_dubl.show(10)"
   ]
  },
  {
   "cell_type": "code",
   "execution_count": 7,
   "id": "256883a3-71a2-42d2-8969-6151db14fdd1",
   "metadata": {},
   "outputs": [
    {
     "data": {
      "text/plain": [
       "2364"
      ]
     },
     "execution_count": 7,
     "metadata": {},
     "output_type": "execute_result"
    }
   ],
   "source": [
    "videos_drop_dubl.count()"
   ]
  },
  {
   "cell_type": "code",
   "execution_count": 8,
   "id": "d281e406-b3e0-42ee-9e2c-636bcb54c7f4",
   "metadata": {},
   "outputs": [],
   "source": [
    "# Определяем веса для факторов\n",
    "weight_views = 0.5\n",
    "weight_comments = 0.3\n",
    "weight_likes = 0.2\n",
    "weight_dislikes = -0.2"
   ]
  },
  {
   "cell_type": "code",
   "execution_count": 9,
   "id": "bb6ac433-403f-47fa-a54d-040c629cb0d4",
   "metadata": {},
   "outputs": [],
   "source": [
    "# формула для расчета скора\n",
    "score = videos['views'] * lit(weight_views) + videos['likes'] * lit(weight_likes) + videos['comment_total'] * lit(weight_comments) + videos['dislikes'] * lit(weight_dislikes) "
   ]
  },
  {
   "cell_type": "code",
   "execution_count": 10,
   "id": "48c082ef-f316-4926-93e5-fc46f0247e75",
   "metadata": {},
   "outputs": [
    {
     "name": "stdout",
     "output_type": "stream",
     "text": [
      "+-----------+--------------------+----------------+-----------+--------------------+-------+------+--------+-------------+--------------------+-----+------------------+\n",
      "|   video_id|               title|   channel_title|category_id|                tags|  views| likes|dislikes|comment_total|      thumbnail_link| date|             score|\n",
      "+-----------+--------------------+----------------+-----------+--------------------+-------+------+--------+-------------+--------------------+-----+------------------+\n",
      "|4yCkkOvIkUI|EXCLUSIVE: Zonniq...|        YBF Chic|         24|              [none]|   5662|    33|      21|           13|https://i.ytimg.c...|06.10|            2837.3|\n",
      "|7TN09IP5JuI|Terry Crews Hallu...|  First We Feast|         26|First we feast|fw...|5066207|196868|    2083|        22920|https://i.ytimg.c...|10.10|         2578936.5|\n",
      "|Bo-qp-Zu0OY|Meeting Talking D...|    TouringPlans|         19|talking mickey|ta...|  21654|   179|       1|           30|https://i.ytimg.c...|30.09|10871.599999999999|\n",
      "|JkqTeQHFoBY|Guardians of the ...|      Framestore|          1|marvel|vfx|CG|CGI...|  23300|   384|       1|           31|https://i.ytimg.c...|30.09|11735.899999999998|\n",
      "|K7pQsR8WFSo|Schlieren Imaging...|      Veritasium|         27|veritasium|scienc...| 633374| 29671|     284|         2200|https://i.ytimg.c...|05.10|          323224.4|\n",
      "|RE-far-FvRs|PUPPIES FIRST BAT...|      VLOGTOWSKI|         22|vlog|family vlog|...| 323280| 13781|     292|         2024|https://i.ytimg.c...|12.10|164945.00000000003|\n",
      "|TzyraAp3jaY|Martin Scorsese T...|     MasterClass|         27|Martin Scorsese|f...|  84257|   842|       1|           98|https://i.ytimg.c...|26.09|42326.100000000006|\n",
      "|WQjO1mMCPg4|EVERY MCDONALD'S ...|           Smosh|         23|mcdonalds|drive t...|2318203| 64553|    6770|         7843|https://i.ytimg.c...|15.10|         1173011.0|\n",
      "|_r5eTelhpmQ|Darius Rucker - L...|DariusRuckerVEVO|         10|Darius|Rucker|Lif...|  17783|  1072|      22|           68|https://i.ytimg.c...|30.09|            9121.9|\n",
      "|aRgTLb5EbiQ| My Mama Wears Timbs|        Ari Fitz|         26|itsarifitz|ari fi...|  22165|  2643|      12|          259|https://i.ytimg.c...|16.10|11686.400000000001|\n",
      "+-----------+--------------------+----------------+-----------+--------------------+-------+------+--------+-------------+--------------------+-----+------------------+\n",
      "only showing top 10 rows\n",
      "\n"
     ]
    }
   ],
   "source": [
    "# scored_videos - датасет на основе файла USvideos.csv с добавлением колонки, содержащей скор \n",
    "scored_videos = videos_drop_dubl.withColumn('score', score)\n",
    "scored_videos.show(10)"
   ]
  },
  {
   "cell_type": "code",
   "execution_count": null,
   "id": "2d9038cf-7150-44a4-928b-02561c85f649",
   "metadata": {},
   "outputs": [],
   "source": [
    "+-----------+--------------------+----------------+-----------+--------------------+-------+------+--------+-------------+--------------------+-----+------------------+\n",
    "|   video_id|               title|   channel_title|category_id|                tags|  views| likes|dislikes|comment_total|      thumbnail_link| date|             score|\n",
    "+-----------+--------------------+----------------+-----------+--------------------+-------+------+--------+-------------+--------------------+-----+------------------+\n",
    "|4yCkkOvIkUI|EXCLUSIVE: Zonniq...|        YBF Chic|         24|              [none]|   5662|    33|      21|           13|https://i.ytimg.c...|06.10|            2837.3|\n",
    "|7TN09IP5JuI|Terry Crews Hallu...|  First We Feast|         26|First we feast|fw...|5066207|196868|    2083|        22920|https://i.ytimg.c...|10.10|         2578936.5|\n",
    "|Bo-qp-Zu0OY|Meeting Talking D...|    TouringPlans|         19|talking mickey|ta...|  21654|   179|       1|           30|https://i.ytimg.c...|30.09|10871.599999999999|\n",
    "|JkqTeQHFoBY|Guardians of the ...|      Framestore|          1|marvel|vfx|CG|CGI...|  23300|   384|       1|           31|https://i.ytimg.c...|30.09|11735.899999999998|\n",
    "|K7pQsR8WFSo|Schlieren Imaging...|      Veritasium|         27|veritasium|scienc...| 633374| 29671|     284|         2200|https://i.ytimg.c...|05.10|          323224.4|\n",
    "|RE-far-FvRs|PUPPIES FIRST BAT...|      VLOGTOWSKI|         22|vlog|family vlog|...| 323280| 13781|     292|         2024|https://i.ytimg.c...|12.10|164945.00000000003|\n",
    "|TzyraAp3jaY|Martin Scorsese T...|     MasterClass|         27|Martin Scorsese|f...|  84257|   842|       1|           98|https://i.ytimg.c...|26.09|42326.100000000006|\n",
    "|WQjO1mMCPg4|EVERY MCDONALD'S ...|           Smosh|         23|mcdonalds|drive t...|2318203| 64553|    6770|         7843|https://i.ytimg.c...|15.10|         1173011.0|\n",
    "|_r5eTelhpmQ|Darius Rucker - L...|DariusRuckerVEVO|         10|Darius|Rucker|Lif...|  17783|  1072|      22|           68|https://i.ytimg.c...|30.09|            9121.9|\n",
    "|aRgTLb5EbiQ| My Mama Wears Timbs|        Ari Fitz|         26|itsarifitz|ari fi...|  22165|  2643|      12|          259|https://i.ytimg.c...|16.10|11686.400000000001|\n",
    "+-----------+--------------------+----------------+-----------+--------------------+-------+------+--------+-------------+--------------------+-----+------------------+\n",
    "only showing top 10 rows"
   ]
  },
  {
   "cell_type": "markdown",
   "id": "83ad5cd0-9ba5-4634-acdf-ef2e7ff6f314",
   "metadata": {},
   "source": [
    "# categories_score - датасет по категориям, в котором присутствуют следующие поля: Название категории (не id, он непонятный для аналитиков!). Медиана показателя score из датасета scored_videos по каждой категории."
   ]
  },
  {
   "cell_type": "code",
   "execution_count": 11,
   "id": "3a2c9f85-ab2d-49fc-9d19-3814873ecd6c",
   "metadata": {},
   "outputs": [
    {
     "name": "stdout",
     "output_type": "stream",
     "text": [
      "+--------------------+\n",
      "|               items|\n",
      "+--------------------+\n",
      "|[{\"m2yskBQFythfE4...|\n",
      "+--------------------+\n",
      "\n"
     ]
    }
   ],
   "source": [
    "# читаем json us_category_id\n",
    "us_category_id = spark.read \\\n",
    "    .option(\"multiline\",\"true\") \\\n",
    "    .json('../datasets/US_category_id.json') \\\n",
    "    .select('items')\n",
    "us_category_id.show(10, True)"
   ]
  },
  {
   "cell_type": "code",
   "execution_count": 12,
   "id": "db7863de-81c0-490b-9e1c-bd90fa107f95",
   "metadata": {},
   "outputs": [
    {
     "name": "stdout",
     "output_type": "stream",
     "text": [
      "+---+---+\n",
      "|pos| id|\n",
      "+---+---+\n",
      "|  0|  1|\n",
      "|  1|  2|\n",
      "|  2| 10|\n",
      "|  3| 15|\n",
      "|  4| 17|\n",
      "+---+---+\n",
      "only showing top 5 rows\n",
      "\n"
     ]
    }
   ],
   "source": [
    "# извлекаем id категорий\n",
    "id = us_category_id.select(posexplode(col(\"items.id\")).alias(\"pos\", \"id\"))\n",
    "id.show(5)"
   ]
  },
  {
   "cell_type": "code",
   "execution_count": 13,
   "id": "736fbf79-f002-4e49-b0c1-41b497888d1a",
   "metadata": {},
   "outputs": [],
   "source": [
    "# извлекаем категории\n",
    "category = us_category_id.select(posexplode(col(\"items.snippet.title\")).alias(\"pos\", \"title\"))"
   ]
  },
  {
   "cell_type": "code",
   "execution_count": 14,
   "id": "920ed642-1ff2-4c0e-a38d-1947a3f2195c",
   "metadata": {},
   "outputs": [
    {
     "name": "stdout",
     "output_type": "stream",
     "text": [
      "+-----------+----------------+\n",
      "|category_id|   category_name|\n",
      "+-----------+----------------+\n",
      "|          1|Film & Animation|\n",
      "|         10|           Music|\n",
      "|         15|  Pets & Animals|\n",
      "|         17|          Sports|\n",
      "|         18|    Short Movies|\n",
      "|         19| Travel & Events|\n",
      "|          2|Autos & Vehicles|\n",
      "|         20|          Gaming|\n",
      "|         21|   Videoblogging|\n",
      "|         22|  People & Blogs|\n",
      "+-----------+----------------+\n",
      "only showing top 10 rows\n",
      "\n"
     ]
    }
   ],
   "source": [
    "# мапим категории и id, приводим id к типу Integer\n",
    "category_id_name = id.join(category, \"pos\", \"inner\").select(col(\"id\").cast(IntegerType()).alias(\"category_id\"), col(\"title\").alias(\"category_name\"))\n",
    "category_id_name.orderBy(\"id\").show(10)"
   ]
  },
  {
   "cell_type": "markdown",
   "id": "a6a4c06c-e118-4eaa-94bd-2f76bdbec899",
   "metadata": {},
   "source": [
    "# JOIN без оптимизации"
   ]
  },
  {
   "cell_type": "code",
   "execution_count": 15,
   "id": "db84c578-240c-42d3-8b69-5880a8ea2ad2",
   "metadata": {},
   "outputs": [
    {
     "name": "stdout",
     "output_type": "stream",
     "text": [
      "+-----------+-----------+--------------------+-----------------+--------------------+------+-----+--------+-------------+--------------------+-----+------------------+--------------------+\n",
      "|category_id|   video_id|               title|    channel_title|                tags| views|likes|dislikes|comment_total|      thumbnail_link| date|             score|       category_name|\n",
      "+-----------+-----------+--------------------+-----------------+--------------------+------+-----+--------+-------------+--------------------+-----+------------------+--------------------+\n",
      "|         28|CAQ2wWVlOuc|Jeff Bezos smashe...|     Tech Insider|Tech Insider|TI|T...| 66230|  661|     153|          203|https://i.ytimg.c...|22.10|           33277.5|Science & Technology|\n",
      "|         28|9W0WPPpCFaM|You have more tha...|              Vox|vox.com|vox|expla...|209228| 7829|     237|          762|https://i.ytimg.c...|20.09|106361.00000000001|Science & Technology|\n",
      "|         28|aawlU1IzuqI|iPhone 8 Charging...|     AppleInsider|iphone 8 5 watt|i...| 23366|  422|      17|           52|https://i.ytimg.c...|05.10|           11779.6|Science & Technology|\n",
      "|         28|1L7JFN7tQLs|iPhone X + iPhone...|Jonathan Morrison|Apple|iPhone X|iP...|966001|25724|    1046|         4802|https://i.ytimg.c...|18.09|489376.69999999995|Science & Technology|\n",
      "|         28|B9SptdjpJBQ| How To Learn Faster|      AsapSCIENCE|Learning tricks|w...|669851|34521|     346|         1372|https://i.ytimg.c...|30.09|          342172.1|Science & Technology|\n",
      "+-----------+-----------+--------------------+-----------------+--------------------+------+-----+--------+-------------+--------------------+-----+------------------+--------------------+\n",
      "only showing top 5 rows\n",
      "\n"
     ]
    }
   ],
   "source": [
    "scored_videos_and_category = scored_videos.join(category_id_name, \"category_id\", \"inner\")\n",
    "scored_videos_and_category.show(5)"
   ]
  },
  {
   "cell_type": "code",
   "execution_count": null,
   "id": "bc98d4d4-9ac5-4031-a67f-7f75b7191ab7",
   "metadata": {},
   "outputs": [],
   "source": [
    "+-----------+-----------+--------------------+-----------------+--------------------+------+-----+--------+-------------+--------------------+-----+------------------+--------------------+\n",
    "|category_id|   video_id|               title|    channel_title|                tags| views|likes|dislikes|comment_total|      thumbnail_link| date|             score|       category_name|\n",
    "+-----------+-----------+--------------------+-----------------+--------------------+------+-----+--------+-------------+--------------------+-----+------------------+--------------------+\n",
    "|         28|CAQ2wWVlOuc|Jeff Bezos smashe...|     Tech Insider|Tech Insider|TI|T...| 66230|  661|     153|          203|https://i.ytimg.c...|22.10|           33277.5|Science & Technology|\n",
    "|         28|9W0WPPpCFaM|You have more tha...|              Vox|vox.com|vox|expla...|209228| 7829|     237|          762|https://i.ytimg.c...|20.09|106361.00000000001|Science & Technology|\n",
    "|         28|aawlU1IzuqI|iPhone 8 Charging...|     AppleInsider|iphone 8 5 watt|i...| 23366|  422|      17|           52|https://i.ytimg.c...|05.10|           11779.6|Science & Technology|\n",
    "|         28|1L7JFN7tQLs|iPhone X + iPhone...|Jonathan Morrison|Apple|iPhone X|iP...|966001|25724|    1046|         4802|https://i.ytimg.c...|18.09|489376.69999999995|Science & Technology|\n",
    "|         28|B9SptdjpJBQ| How To Learn Faster|      AsapSCIENCE|Learning tricks|w...|669851|34521|     346|         1372|https://i.ytimg.c...|30.09|          342172.1|Science & Technology|\n",
    "+-----------+-----------+--------------------+-----------------+--------------------+------+-----+--------+-------------+--------------------+-----+------------------+--------------------+\n",
    "only showing top 5 rows"
   ]
  },
  {
   "cell_type": "code",
   "execution_count": 16,
   "id": "12305414-5fa6-4ef7-9915-cd96a7ac2029",
   "metadata": {},
   "outputs": [
    {
     "data": {
      "text/plain": [
       "2364"
      ]
     },
     "execution_count": 16,
     "metadata": {},
     "output_type": "execute_result"
    }
   ],
   "source": [
    "scored_videos_and_category.count()"
   ]
  },
  {
   "cell_type": "markdown",
   "id": "50916889-8e77-4135-9d37-5967373af464",
   "metadata": {},
   "source": [
    "# JOIN с оптимизацией Broadcast"
   ]
  },
  {
   "cell_type": "code",
   "execution_count": null,
   "id": "b706ba7a-f7bf-44a2-ba9a-ced0c6034787",
   "metadata": {},
   "outputs": [],
   "source": [
    "# датафрейм с маппингом категория - id является не большим, это своего рода справочник, который нужно приджойнить к основному \n",
    "# датафрейму с видео для того, чтобы получить понятные для аналитика названия категорий, поэтому для оптимизации джойна использован \n",
    "# бродкаст маленького датафрейма"
   ]
  },
  {
   "cell_type": "code",
   "execution_count": 17,
   "id": "64539570-1c45-44f7-b4c6-3bf72ff57cdc",
   "metadata": {},
   "outputs": [
    {
     "data": {
      "text/plain": [
       "2364"
      ]
     },
     "execution_count": 17,
     "metadata": {},
     "output_type": "execute_result"
    }
   ],
   "source": [
    "scored_videos\\\n",
    "    .join(broadcast(category_id_name), \"category_id\", \"inner\")\\\n",
    "    .count()"
   ]
  },
  {
   "cell_type": "code",
   "execution_count": 18,
   "id": "9e6eda99-308d-41cf-b2db-fae8629e7a9b",
   "metadata": {},
   "outputs": [],
   "source": [
    "categories_score_pandas = scored_videos_and_category.pandas_api()"
   ]
  },
  {
   "cell_type": "code",
   "execution_count": 19,
   "id": "2028fa40-8662-42a7-8525-03c557883fe6",
   "metadata": {},
   "outputs": [
    {
     "data": {
      "text/html": [
       "<div>\n",
       "<style scoped>\n",
       "    .dataframe tbody tr th:only-of-type {\n",
       "        vertical-align: middle;\n",
       "    }\n",
       "\n",
       "    .dataframe tbody tr th {\n",
       "        vertical-align: top;\n",
       "    }\n",
       "\n",
       "    .dataframe thead th {\n",
       "        text-align: right;\n",
       "    }\n",
       "</style>\n",
       "<table border=\"1\" class=\"dataframe\">\n",
       "  <thead>\n",
       "    <tr style=\"text-align: right;\">\n",
       "      <th></th>\n",
       "      <th>category_id</th>\n",
       "      <th>video_id</th>\n",
       "      <th>title</th>\n",
       "      <th>channel_title</th>\n",
       "      <th>tags</th>\n",
       "      <th>views</th>\n",
       "      <th>likes</th>\n",
       "      <th>dislikes</th>\n",
       "      <th>comment_total</th>\n",
       "      <th>thumbnail_link</th>\n",
       "      <th>date</th>\n",
       "      <th>score</th>\n",
       "      <th>category_name</th>\n",
       "    </tr>\n",
       "  </thead>\n",
       "  <tbody>\n",
       "    <tr>\n",
       "      <th>0</th>\n",
       "      <td>28</td>\n",
       "      <td>CAQ2wWVlOuc</td>\n",
       "      <td>Jeff Bezos smashes bottle of champagne while p...</td>\n",
       "      <td>Tech Insider</td>\n",
       "      <td>Tech Insider|TI|Tech|Science|Innovation|Digita...</td>\n",
       "      <td>66230</td>\n",
       "      <td>661</td>\n",
       "      <td>153</td>\n",
       "      <td>203</td>\n",
       "      <td>https://i.ytimg.com/vi/CAQ2wWVlOuc/default.jpg</td>\n",
       "      <td>22.10</td>\n",
       "      <td>33277.5</td>\n",
       "      <td>Science &amp; Technology</td>\n",
       "    </tr>\n",
       "    <tr>\n",
       "      <th>1</th>\n",
       "      <td>28</td>\n",
       "      <td>9W0WPPpCFaM</td>\n",
       "      <td>You have more than five senses</td>\n",
       "      <td>Vox</td>\n",
       "      <td>vox.com|vox|explain|sense|perception|sophie sc...</td>\n",
       "      <td>209228</td>\n",
       "      <td>7829</td>\n",
       "      <td>237</td>\n",
       "      <td>762</td>\n",
       "      <td>https://i.ytimg.com/vi/9W0WPPpCFaM/default.jpg</td>\n",
       "      <td>20.09</td>\n",
       "      <td>106361.0</td>\n",
       "      <td>Science &amp; Technology</td>\n",
       "    </tr>\n",
       "    <tr>\n",
       "      <th>2</th>\n",
       "      <td>28</td>\n",
       "      <td>aawlU1IzuqI</td>\n",
       "      <td>iPhone 8 Charging Speed Comparison - Is Fast-C...</td>\n",
       "      <td>AppleInsider</td>\n",
       "      <td>iphone 8 5 watt|iphone 8 fast-charging|iphone ...</td>\n",
       "      <td>23366</td>\n",
       "      <td>422</td>\n",
       "      <td>17</td>\n",
       "      <td>52</td>\n",
       "      <td>https://i.ytimg.com/vi/aawlU1IzuqI/default.jpg</td>\n",
       "      <td>05.10</td>\n",
       "      <td>11779.6</td>\n",
       "      <td>Science &amp; Technology</td>\n",
       "    </tr>\n",
       "    <tr>\n",
       "      <th>3</th>\n",
       "      <td>28</td>\n",
       "      <td>1L7JFN7tQLs</td>\n",
       "      <td>iPhone X + iPhone 8 Hands on!</td>\n",
       "      <td>Jonathan Morrison</td>\n",
       "      <td>Apple|iPhone X|iPhone 8|iPhone X unboxing|Appl...</td>\n",
       "      <td>966001</td>\n",
       "      <td>25724</td>\n",
       "      <td>1046</td>\n",
       "      <td>4802</td>\n",
       "      <td>https://i.ytimg.com/vi/1L7JFN7tQLs/default.jpg</td>\n",
       "      <td>18.09</td>\n",
       "      <td>489376.7</td>\n",
       "      <td>Science &amp; Technology</td>\n",
       "    </tr>\n",
       "    <tr>\n",
       "      <th>4</th>\n",
       "      <td>28</td>\n",
       "      <td>B9SptdjpJBQ</td>\n",
       "      <td>How To Learn Faster</td>\n",
       "      <td>AsapSCIENCE</td>\n",
       "      <td>Learning tricks|ways to learn faster|best ways...</td>\n",
       "      <td>669851</td>\n",
       "      <td>34521</td>\n",
       "      <td>346</td>\n",
       "      <td>1372</td>\n",
       "      <td>https://i.ytimg.com/vi/B9SptdjpJBQ/default.jpg</td>\n",
       "      <td>30.09</td>\n",
       "      <td>342172.1</td>\n",
       "      <td>Science &amp; Technology</td>\n",
       "    </tr>\n",
       "    <tr>\n",
       "      <th>5</th>\n",
       "      <td>28</td>\n",
       "      <td>WYYvHb03Eog</td>\n",
       "      <td>Apple iPhone X first look</td>\n",
       "      <td>The Verge</td>\n",
       "      <td>iPhone X|iphone x hands on|iPhone X first look...</td>\n",
       "      <td>4804702</td>\n",
       "      <td>35719</td>\n",
       "      <td>7384</td>\n",
       "      <td>13127</td>\n",
       "      <td>https://i.ytimg.com/vi/WYYvHb03Eog/default.jpg</td>\n",
       "      <td>19.09</td>\n",
       "      <td>2411956.1</td>\n",
       "      <td>Science &amp; Technology</td>\n",
       "    </tr>\n",
       "    <tr>\n",
       "      <th>6</th>\n",
       "      <td>28</td>\n",
       "      <td>k9bYO7uSnrg</td>\n",
       "      <td>iPhone X hands on</td>\n",
       "      <td>TechCrunch</td>\n",
       "      <td>iphone x|apple iphone|face id|apple|hardware|h...</td>\n",
       "      <td>14577</td>\n",
       "      <td>160</td>\n",
       "      <td>19</td>\n",
       "      <td>51</td>\n",
       "      <td>https://i.ytimg.com/vi/k9bYO7uSnrg/default.jpg</td>\n",
       "      <td>13.09</td>\n",
       "      <td>7332.0</td>\n",
       "      <td>Science &amp; Technology</td>\n",
       "    </tr>\n",
       "    <tr>\n",
       "      <th>7</th>\n",
       "      <td>28</td>\n",
       "      <td>F8i8pnZmk50</td>\n",
       "      <td>iPhone 8 vs 8 Plus Unboxing &amp; Comparison!</td>\n",
       "      <td>Jonathan Morrison</td>\n",
       "      <td>iPhone 8|iPhone 8 Plus|iPhone 8 Unboxing|iPhon...</td>\n",
       "      <td>1363776</td>\n",
       "      <td>51439</td>\n",
       "      <td>1666</td>\n",
       "      <td>6150</td>\n",
       "      <td>https://i.ytimg.com/vi/F8i8pnZmk50/default.jpg</td>\n",
       "      <td>24.09</td>\n",
       "      <td>693687.6</td>\n",
       "      <td>Science &amp; Technology</td>\n",
       "    </tr>\n",
       "    <tr>\n",
       "      <th>8</th>\n",
       "      <td>28</td>\n",
       "      <td>nOllkbo99SU</td>\n",
       "      <td>Best Fast Chargers for iPhone 8 / iPhone X - E...</td>\n",
       "      <td>iDB</td>\n",
       "      <td>Apple|iDownloadBlog|Andrew ohara|iDB|iphone|ip...</td>\n",
       "      <td>5660</td>\n",
       "      <td>220</td>\n",
       "      <td>5</td>\n",
       "      <td>44</td>\n",
       "      <td>https://i.ytimg.com/vi/nOllkbo99SU/default.jpg</td>\n",
       "      <td>05.10</td>\n",
       "      <td>2886.2</td>\n",
       "      <td>Science &amp; Technology</td>\n",
       "    </tr>\n",
       "    <tr>\n",
       "      <th>9</th>\n",
       "      <td>28</td>\n",
       "      <td>d8U5funnyA8</td>\n",
       "      <td>Why Does the Mac Mini Exist in 2017?</td>\n",
       "      <td>Austin Evans</td>\n",
       "      <td>mac|mac mini|apple|mac os|cheap mac|budget mac...</td>\n",
       "      <td>917466</td>\n",
       "      <td>20937</td>\n",
       "      <td>1406</td>\n",
       "      <td>3085</td>\n",
       "      <td>https://i.ytimg.com/vi/d8U5funnyA8/default.jpg</td>\n",
       "      <td>22.09</td>\n",
       "      <td>463564.7</td>\n",
       "      <td>Science &amp; Technology</td>\n",
       "    </tr>\n",
       "  </tbody>\n",
       "</table>\n",
       "</div>"
      ],
      "text/plain": [
       "   category_id     video_id                                                                             title      channel_title                                                                                                                                                                                                                                                                                                                                                                                                                                                                     tags    views  likes  dislikes  comment_total                                  thumbnail_link   date      score         category_name\n",
       "0           28  CAQ2wWVlOuc  Jeff Bezos smashes bottle of champagne while perched on top of a giant wind mill       Tech Insider                                                                                                                                                                                                                                                                                                                                             Tech Insider|TI|Tech|Science|Innovation|Digital culture|Design|Technology|Jeff Bezos|Amazon|Wind mill|Solar power|Wind power    66230    661       153            203  https://i.ytimg.com/vi/CAQ2wWVlOuc/default.jpg  22.10    33277.5  Science & Technology\n",
       "1           28  9W0WPPpCFaM                                                    You have more than five senses                Vox                                                                                                                                                                                                                                                                                                              vox.com|vox|explain|sense|perception|sophie scott|bruce durie|smell|taste|touch|hear|see|proprioception|thermoception|equilibrioception|neurology|sensation   209228   7829       237            762  https://i.ytimg.com/vi/9W0WPPpCFaM/default.jpg  20.09   106361.0  Science & Technology\n",
       "2           28  aawlU1IzuqI                   iPhone 8 Charging Speed Comparison - Is Fast-Charging worth it?       AppleInsider   iphone 8 5 watt|iphone 8 fast-charging|iphone 8 12 watt|iphone 8 fast charge|iphone 8 29 watt|iphone 8 charging speed comparison|iphone 8 comparison|iphone 8 charging speed|iphone 8 charging comparison|iphone 8 usb-c|iPhone 8 fast charging|iphone 8 wireless charging|how to fast charge iphone 8 plus|iphone 8 wireless|wireless chargers for iphone 8|iphone 8 wireless charging speed|iphone 8 29W watt charger|iphone 8 belkin|iphone 8 best wireless charger    23366    422        17             52  https://i.ytimg.com/vi/aawlU1IzuqI/default.jpg  05.10    11779.6  Science & Technology\n",
       "3           28  1L7JFN7tQLs                                                     iPhone X + iPhone 8 Hands on!  Jonathan Morrison                                                                                                           Apple|iPhone X|iPhone 8|iPhone X unboxing|Apple iPhone X|iPhone X hands on|iPhone X review|review|unboxing|iphone 8 plus|iphone 8 unboxing|iphone 8 review|iphone 8 rumors|iphone edition|iphone 8 leaked|iphone|2017|ios 11|iphone 8 features|apple iphone 8|iphone 2017|apple iphone edition|iphone 8|iphone 8 specs|iPhone X official|tld|jonathan morrison   966001  25724      1046           4802  https://i.ytimg.com/vi/1L7JFN7tQLs/default.jpg  18.09   489376.7  Science & Technology\n",
       "4           28  B9SptdjpJBQ                                                               How To Learn Faster        AsapSCIENCE                                                                                      Learning tricks|ways to learn faster|best ways to learn|how to learn a new language|how to be smarter|the science of learning|best way to learn|learning hacks|how to study|how to retain information|writing vs. typing|sleep helps you learn|teaching students to learn|how to learn a new motorskill|drink water to learn|How the brain learns|study tips|learn anything quickly   669851  34521       346           1372  https://i.ytimg.com/vi/B9SptdjpJBQ/default.jpg  30.09   342172.1  Science & Technology\n",
       "5           28  WYYvHb03Eog                                                         Apple iPhone X first look          The Verge                                                                                                                                                                                                           iPhone X|iphone x hands on|iPhone X first look|apple iphone x|iphone 2017|iPhone X price|iPhone X specs|iPhone X home button|iPhone X release date|iPhone X design|iPhone X camera|iPhone X wireless charging|iPhone X waterproof|apple|iphone|the verge|verge  4804702  35719      7384          13127  https://i.ytimg.com/vi/WYYvHb03Eog/default.jpg  19.09  2411956.1  Science & Technology\n",
       "6           28  k9bYO7uSnrg                                                                 iPhone X hands on         TechCrunch                                                                                                                                                                                                                                                                                                                                                                                                    iphone x|apple iphone|face id|apple|hardware|hands on|event|news|demo    14577    160        19             51  https://i.ytimg.com/vi/k9bYO7uSnrg/default.jpg  13.09     7332.0  Science & Technology\n",
       "7           28  F8i8pnZmk50                                         iPhone 8 vs 8 Plus Unboxing & Comparison!  Jonathan Morrison                                                               iPhone 8|iPhone 8 Plus|iPhone 8 Unboxing|iPhone 8 Review|iPhone 8 vs 8 Plus|unboxing|review|apple|2017|iphone x|iphone 8|iphone|iphone x review|iphone x vs iphone 8|iphone x hands on|apple iphone x|iphone 8 plus|apple iphone 8|iphone 8 hands on|iphone 8 camera|8 plus|iphone 10|iphone 8 release date|iphone 2017|iPhone 8 vs Galaxy S8|ios 11|tld|jonathan morrison|iphone x vs 8|iphone x unboxing  1363776  51439      1666           6150  https://i.ytimg.com/vi/F8i8pnZmk50/default.jpg  24.09   693687.6  Science & Technology\n",
       "8           28  nOllkbo99SU          Best Fast Chargers for iPhone 8 / iPhone X - Everything You Need to Know                iDB  Apple|iDownloadBlog|Andrew ohara|iDB|iphone|iphone 8|iphone 8 plus|iphone x|iphone 10|fast|fast charge|fast charger|roundup|best|best fast charger|quick charge|iphone fast charger|anker|anker usb-c|anker usb charger|nupower|newertech|aukey|Apple USB-C charger|usb-c lightning|usb-c charger|comparison|review|reviews|lightning usb c|charge|charger|chargers|best iphone chargers|best iphone X charger|best iphone 8 charger|fastest|fastest charger|powerport+     5660    220         5             44  https://i.ytimg.com/vi/nOllkbo99SU/default.jpg  05.10     2886.2  Science & Technology\n",
       "9           28  d8U5funnyA8                                              Why Does the Mac Mini Exist in 2017?       Austin Evans                                                                                                                                                                                                                                                                                                                                                              mac|mac mini|apple|mac os|cheap mac|budget mac|computer|2017|unboxing|os x|why does this exist|austin evans   917466  20937      1406           3085  https://i.ytimg.com/vi/d8U5funnyA8/default.jpg  22.09   463564.7  Science & Technology"
      ]
     },
     "execution_count": 19,
     "metadata": {},
     "output_type": "execute_result"
    }
   ],
   "source": [
    "categories_score_pandas.head(10)"
   ]
  },
  {
   "cell_type": "code",
   "execution_count": 20,
   "id": "c0f35962-03c1-4e1d-8353-9aced88b4d11",
   "metadata": {},
   "outputs": [],
   "source": [
    "categories_score = categories_score_pandas.groupby('category_name')['score'].median()"
   ]
  },
  {
   "cell_type": "code",
   "execution_count": 21,
   "id": "00ede4d8-75f3-4254-8bb4-0cc451d8a97d",
   "metadata": {},
   "outputs": [
    {
     "data": {
      "text/plain": [
       "category_name\n",
       "Shows                      4395.1\n",
       "Education                127538.4\n",
       "Gaming                   126462.4\n",
       "Entertainment            192165.7\n",
       "Travel & Events          105931.7\n",
       "Science & Technology     158050.0\n",
       "Sports                    66815.1\n",
       "Howto & Style            124715.6\n",
       "Nonprofits & Activism     28155.5\n",
       "Film & Animation         160161.3\n",
       "People & Blogs           121552.8\n",
       "News & Politics           83608.7\n",
       "Pets & Animals            96185.0\n",
       "Autos & Vehicles          84353.2\n",
       "Music                    122129.2\n",
       "Comedy                   398643.1\n",
       "Name: score, dtype: float64"
      ]
     },
     "execution_count": 21,
     "metadata": {},
     "output_type": "execute_result"
    }
   ],
   "source": [
    "categories_score"
   ]
  },
  {
   "cell_type": "markdown",
   "id": "9932e69a-8eb5-4478-9350-6189c0ad1fc5",
   "metadata": {},
   "source": [
    "# popular_tags - датасет по самым популярным тэгам (название тэга + количество видео с этим тэгом)"
   ]
  },
  {
   "cell_type": "raw",
   "id": "a17e209d-eb69-470f-9d6a-9f55b422105f",
   "metadata": {},
   "source": [
    "Код Scala-функции\n",
    "object CustomUDFs {\n",
    "  def splitTags(s: String): Array[String] = s.split('|')\n",
    "  val splitTagsUDF: UserDefinedFunction = udf(splitTags _)\n",
    "}"
   ]
  },
  {
   "cell_type": "code",
   "execution_count": 22,
   "id": "2e161b82-b748-4b30-a5f3-81504ab5d88e",
   "metadata": {},
   "outputs": [],
   "source": [
    "def udfSplitTagsScalaWrapper(field):\n",
    "    _splitTagsUDF = sc._jvm.CustomUDFs.splitTagsUDF()\n",
    "    return Column(_splitTagsUDF.apply(_to_seq(sc, [field], _to_java_column)))"
   ]
  },
  {
   "cell_type": "code",
   "execution_count": 23,
   "id": "bbdcf007-d16d-4cd3-897b-35a517498eef",
   "metadata": {},
   "outputs": [
    {
     "name": "stdout",
     "output_type": "stream",
     "text": [
      "+------+-----+\n",
      "|   Tag|count|\n",
      "+------+-----+\n",
      "| funny|  217|\n",
      "|comedy|  163|\n",
      "|[none]|  144|\n",
      "|  2017|   93|\n",
      "| humor|   92|\n",
      "|how to|   84|\n",
      "|makeup|   77|\n",
      "| music|   74|\n",
      "|  vlog|   73|\n",
      "| video|   71|\n",
      "+------+-----+\n",
      "only showing top 10 rows\n",
      "\n"
     ]
    }
   ],
   "source": [
    "videos_drop_dubl_spl_tags1 = videos_drop_dubl.withColumn('Tag', explode(udfSplitTagsScalaWrapper(col('tags'))))\n",
    "popular_tags1 = videos_drop_dubl_spl_tags1.groupBy('Tag').count()\n",
    "popular_tags1.orderBy(col('count').desc()).show(10)"
   ]
  },
  {
   "cell_type": "code",
   "execution_count": 24,
   "id": "6ed0c599-25ee-4faf-86d4-4164604cfaa7",
   "metadata": {},
   "outputs": [
    {
     "name": "stdout",
     "output_type": "stream",
     "text": [
      "Execution time: 0.011523291992489249 seconds\n"
     ]
    }
   ],
   "source": [
    "code_to_measure = \"\"\"\n",
    "videos_drop_dubl_spl_tags1 = videos_drop_dubl.withColumn('Tag', explode(udfSplitTagsScalaWrapper(col('tags'))))\n",
    "popular_tags1 = videos_drop_dubl_spl_tags1.groupBy('Tag').count()\n",
    "\"\"\"\n",
    "setup_code = \"\"\"\n",
    "import pyspark\n",
    "from pyspark.sql.functions import row_number, col, explode, udf\n",
    "from pyspark.sql.column import _to_java_column\n",
    "from pyspark.sql.column import _to_seq\n",
    "from pyspark.sql import SparkSession, Column\n",
    "from pyspark.sql.window import Window\n",
    "from pyspark.sql.types import ArrayType, StringType\n",
    "\n",
    "\n",
    "spark = SparkSession.builder.master(\"local\") \\\n",
    "    .config('spark.sql.autoBroadcastJoinThreshold', 0) \\\n",
    "    .config('spark.sql.adaptive.enabled', 'false') \\\n",
    "    .getOrCreate()\n",
    "sc = spark.sparkContext\n",
    "\n",
    "videos = spark.read.option('header', 'true').option(\"inferSchema\", \"true\").csv('../datasets/USvideos.csv')\n",
    "windowSpec  = Window.partitionBy(\"video_id\").orderBy(col(\"date\").desc())\n",
    "videos_drop_dubl = videos.withColumn(\"row_number\",row_number().over(windowSpec)) \\\n",
    "                         .where(col(\"row_number\") == 1) \\\n",
    "                         .drop(\"row_number\")\n",
    "\n",
    "def udfSplitTagsScalaWrapper(field):\n",
    "    _splitTagsUDF = sc._jvm.CustomUDFs.splitTagsUDF()\n",
    "    return Column(_splitTagsUDF.apply(_to_seq(sc, [field], _to_java_column)))\n",
    "\"\"\"\n",
    "execution_time = timeit.timeit(stmt=code_to_measure, setup=setup_code, number=1)\n",
    "print(f\"Execution time: {execution_time} seconds\")"
   ]
  },
  {
   "cell_type": "code",
   "execution_count": 25,
   "id": "1e51ffef-a19b-4c7d-a0c6-860564322c2d",
   "metadata": {},
   "outputs": [],
   "source": [
    "# определяем UDF для разбивки тегов\n",
    "def split_tags(tags):\n",
    "    if tags:\n",
    "        return tags.split('|')\n",
    "    else:\n",
    "        return []\n",
    "# Create a UDF from the split_tags function\n",
    "split_tags_udf = udf(split_tags, ArrayType(StringType()))"
   ]
  },
  {
   "cell_type": "code",
   "execution_count": 26,
   "id": "b4c0c840-2a15-45c9-bec4-c4f3387e40c2",
   "metadata": {},
   "outputs": [
    {
     "name": "stdout",
     "output_type": "stream",
     "text": [
      "+------+-----+\n",
      "|   Tag|count|\n",
      "+------+-----+\n",
      "| funny|  217|\n",
      "|comedy|  163|\n",
      "|[none]|  144|\n",
      "|  2017|   93|\n",
      "| humor|   92|\n",
      "|how to|   84|\n",
      "|makeup|   77|\n",
      "| music|   74|\n",
      "|  vlog|   73|\n",
      "| video|   71|\n",
      "+------+-----+\n",
      "only showing top 10 rows\n",
      "\n"
     ]
    }
   ],
   "source": [
    "videos_drop_dubl_spl_tags = videos_drop_dubl.withColumn('Tag', explode(split_tags_udf(col('tags'))))\n",
    "popular_tags = videos_drop_dubl_spl_tags.groupBy('Tag').count()\n",
    "popular_tags.orderBy(col('count').desc()).show(10)"
   ]
  },
  {
   "cell_type": "code",
   "execution_count": 27,
   "id": "64c82f97-2131-47c6-b99d-336593914bf5",
   "metadata": {},
   "outputs": [
    {
     "name": "stdout",
     "output_type": "stream",
     "text": [
      "Execution time: 0.012086332993931137 seconds\n"
     ]
    }
   ],
   "source": [
    "code_to_measure = \"\"\"\n",
    "videos_drop_dubl_spl_tags = videos_drop_dubl.withColumn('Tag', explode(split_tags_udf(col('tags'))))\n",
    "popular_tags = videos_drop_dubl_spl_tags.groupBy('Tag').count()\n",
    "\"\"\"\n",
    "setup_code = \"\"\"\n",
    "import pyspark\n",
    "from pyspark.sql.functions import row_number, col, explode, udf\n",
    "from pyspark.sql import SparkSession\n",
    "from pyspark.sql.window import Window\n",
    "from pyspark.sql.types import ArrayType, StringType\n",
    "\n",
    "spark = SparkSession.builder.master(\"local\") \\\n",
    "    .config('spark.sql.autoBroadcastJoinThreshold', 0) \\\n",
    "    .config('spark.sql.adaptive.enabled', 'false') \\\n",
    "    .getOrCreate()\n",
    "sc = spark.sparkContext\n",
    "\n",
    "videos = spark.read.option('header', 'true').option(\"inferSchema\", \"true\").csv('../datasets/USvideos.csv')\n",
    "windowSpec  = Window.partitionBy(\"video_id\").orderBy(col(\"date\").desc())\n",
    "videos_drop_dubl = videos.withColumn(\"row_number\",row_number().over(windowSpec)) \\\n",
    "                         .where(col(\"row_number\") == 1) \\\n",
    "                         .drop(\"row_number\")\n",
    "\n",
    "\n",
    "def split_tags(tags):\n",
    "    if tags:\n",
    "        return tags.split('|')\n",
    "    else:\n",
    "        return []\n",
    "# Create a UDF from the split_tags function\n",
    "split_tags_udf = udf(split_tags, ArrayType(StringType()))\n",
    "\"\"\"\n",
    "execution_time = timeit.timeit(stmt=code_to_measure, setup=setup_code, number=1)\n",
    "print(f\"Execution time: {execution_time} seconds\")"
   ]
  },
  {
   "cell_type": "markdown",
   "id": "558d7c89-2584-465a-addd-33bbdf479e2f",
   "metadata": {},
   "source": [
    "# Cамые интересные комментарии (топ-5) к видео про котов. “Видео про котов” - видео, у которого есть тэг “cat”."
   ]
  },
  {
   "cell_type": "code",
   "execution_count": 28,
   "id": "bdc41c49-217c-4cb1-8a77-d1bfb58c79fe",
   "metadata": {},
   "outputs": [
    {
     "name": "stdout",
     "output_type": "stream",
     "text": [
      "+-----------+--------------------+--------------+-----------+--------------------+-------+------+--------+-------------+--------------------+-----+--------------+\n",
      "|   video_id|               title| channel_title|category_id|                tags|  views| likes|dislikes|comment_total|      thumbnail_link| date|           Tag|\n",
      "+-----------+--------------------+--------------+-----------+--------------------+-------+------+--------+-------------+--------------------+-----+--------------+\n",
      "|4yCkkOvIkUI|EXCLUSIVE: Zonniq...|      YBF Chic|         24|              [none]|   5662|    33|      21|           13|https://i.ytimg.c...|06.10|        [none]|\n",
      "|7TN09IP5JuI|Terry Crews Hallu...|First We Feast|         26|First we feast|fw...|5066207|196868|    2083|        22920|https://i.ytimg.c...|10.10|First we feast|\n",
      "|7TN09IP5JuI|Terry Crews Hallu...|First We Feast|         26|First we feast|fw...|5066207|196868|    2083|        22920|https://i.ytimg.c...|10.10|           fwf|\n",
      "|7TN09IP5JuI|Terry Crews Hallu...|First We Feast|         26|First we feast|fw...|5066207|196868|    2083|        22920|https://i.ytimg.c...|10.10|  firstwefeast|\n",
      "|7TN09IP5JuI|Terry Crews Hallu...|First We Feast|         26|First we feast|fw...|5066207|196868|    2083|        22920|https://i.ytimg.c...|10.10|          food|\n",
      "+-----------+--------------------+--------------+-----------+--------------------+-------+------+--------+-------------+--------------------+-----+--------------+\n",
      "only showing top 5 rows\n",
      "\n"
     ]
    }
   ],
   "source": [
    "# отсортировать видео у которых есть тег cat\n",
    "videos_drop_dubl_spl_tags.show(5)"
   ]
  },
  {
   "cell_type": "code",
   "execution_count": 29,
   "id": "9350f59b-c571-49a7-8981-6a953c453174",
   "metadata": {},
   "outputs": [
    {
     "data": {
      "text/plain": [
       "43165"
      ]
     },
     "execution_count": 29,
     "metadata": {},
     "output_type": "execute_result"
    }
   ],
   "source": [
    "videos_drop_dubl_spl_tags.count()"
   ]
  },
  {
   "cell_type": "code",
   "execution_count": 30,
   "id": "811879f6-909a-4199-a7d3-8a885db8dbbf",
   "metadata": {},
   "outputs": [],
   "source": [
    "videos_cat_tag = videos_drop_dubl_spl_tags.where(lower((col(\"Tag\"))) == \"cat\")"
   ]
  },
  {
   "cell_type": "code",
   "execution_count": 31,
   "id": "56c86adc-d97c-4226-be81-f881f648f7d0",
   "metadata": {},
   "outputs": [
    {
     "data": {
      "text/plain": [
       "17"
      ]
     },
     "execution_count": 31,
     "metadata": {},
     "output_type": "execute_result"
    }
   ],
   "source": [
    "videos_cat_tag.count()"
   ]
  },
  {
   "cell_type": "code",
   "execution_count": 32,
   "id": "fcc859ce-9881-4431-821d-981b56285d9d",
   "metadata": {},
   "outputs": [
    {
     "name": "stdout",
     "output_type": "stream",
     "text": [
      "+-----------+------------------------------------+--------------------+-----------+--------------------+-------+-----+--------+-------------+--------------------+-----+---+\n",
      "|   video_id|                               title|       channel_title|category_id|                tags|  views|likes|dislikes|comment_total|      thumbnail_link| date|Tag|\n",
      "+-----------+------------------------------------+--------------------+-----------+--------------------+-------+-----+--------+-------------+--------------------+-----+---+\n",
      "|7V1J_MDi9Lg|                  Husky's First Howl|       TheAmazingTen|         22|Husky's First How...| 892375|31960|     380|         1944|https://i.ytimg.c...|28.09|cat|\n",
      "|tp9aQXDFHbY|                Cats Can Be A Rea...|         Simon's Cat|         15|cartoon|simons ca...| 103451| 6125|     107|          313|https://i.ytimg.c...|30.09|cat|\n",
      "|tp9aQXDFHbY|                Cats Can Be A Rea...|         Simon's Cat|         15|cartoon|simons ca...| 103451| 6125|     107|          313|https://i.ytimg.c...|30.09|Cat|\n",
      "|Vjc459T6wX8|更なるフィット感を追求するねこ。-...|            mugumogu|         15|Maru|cat|kitty|pe...|  95741| 4749|      20|          487|https://i.ytimg.c...|16.09|cat|\n",
      "|-1fzGnFwz9M|                9 Things You Need...|         Simon's Cat|         15|cartoon|simons ca...| 189414| 7070|     112|          288|https://i.ytimg.c...|13.09|cat|\n",
      "|-1fzGnFwz9M|                9 Things You Need...|         Simon's Cat|         15|cartoon|simons ca...| 189414| 7070|     112|          288|https://i.ytimg.c...|13.09|Cat|\n",
      "|H7H0ZWwWKCw|                The Fire Whispere...|ExplosmEntertainment|         23|shorts|c&hshorts|...|1196355|48087|    1640|         3374|https://i.ytimg.c...|17.10|cat|\n",
      "|xbBMVa2A68s|                Cat vs Dog - Best...|             TierZoo|         20|cat|dog|cute|gami...| 373506|21420|     696|         5412|https://i.ytimg.c...|21.10|cat|\n",
      "|c5RsAXsZvI8|                7. Teach the Firs...|Clicker Learning ...|         15|cats|cat|kittens|...|   4962|    8|       0|            1|https://i.ytimg.c...|08.10|cat|\n",
      "|BY3SLVNBkeo|                Things you didn't...|         Simon's Cat|         15|cartoon|simons ca...| 111901| 5230|      71|          349|https://i.ytimg.c...|27.09|cat|\n",
      "|BY3SLVNBkeo|                Things you didn't...|         Simon's Cat|         15|cartoon|simons ca...| 111901| 5230|      71|          349|https://i.ytimg.c...|27.09|Cat|\n",
      "|0Yhaei1S5oQ|                Japan's Ominous D...|             SciShow|         27|SciShow|science|H...| 307749|11202|     150|          800|https://i.ytimg.c...|14.09|cat|\n",
      "|XA_jAJ-dWyQ|                 MEET MY NEW KITTEN!|       PsychoSoprano|         23|colleen ballinger...| 718813|49746|     399|         7263|https://i.ytimg.c...|07.10|cat|\n",
      "|S9VIKOuZcds|                My Sweet Jax (Tri...|             Hot Dad|         23|cat|feline|pets|b...|  25037| 2846|      11|          537|https://i.ytimg.c...|22.10|cat|\n",
      "|ruTB5jBGXsE|                Spider Cat - Simo...|         Simon's Cat|         15|cartoon|simons ca...| 576907|19225|     301|          831|https://i.ytimg.c...|12.10|cat|\n",
      "|ruTB5jBGXsE|                Spider Cat - Simo...|         Simon's Cat|         15|cartoon|simons ca...| 576907|19225|     301|          831|https://i.ytimg.c...|12.10|Cat|\n",
      "|ySon7Ou0vIM|                Kittens Come Out ...|         Jukin Media|         15|adorable|animal|b...|  36106|    0|       0|            0|https://i.ytimg.c...|10.10|cat|\n",
      "+-----------+------------------------------------+--------------------+-----------+--------------------+-------+-----+--------+-------------+--------------------+-----+---+\n",
      "\n"
     ]
    }
   ],
   "source": [
    "videos_cat_tag.show()"
   ]
  },
  {
   "cell_type": "code",
   "execution_count": null,
   "id": "9de7e3bd-cdb0-437c-b291-778aa0a23ced",
   "metadata": {},
   "outputs": [],
   "source": [
    "+-----------+------------------------------------+--------------------+-----------+--------------------+-------+-----+--------+-------------+--------------------+-----+---+\n",
    "|   video_id|                               title|       channel_title|category_id|                tags|  views|likes|dislikes|comment_total|      thumbnail_link| date|Tag|\n",
    "+-----------+------------------------------------+--------------------+-----------+--------------------+-------+-----+--------+-------------+--------------------+-----+---+\n",
    "|7V1J_MDi9Lg|                  Husky's First Howl|       TheAmazingTen|         22|Husky's First How...| 892375|31960|     380|         1944|https://i.ytimg.c...|28.09|cat|\n",
    "|tp9aQXDFHbY|                Cats Can Be A Rea...|         Simon's Cat|         15|cartoon|simons ca...| 103451| 6125|     107|          313|https://i.ytimg.c...|30.09|cat|\n",
    "|tp9aQXDFHbY|                Cats Can Be A Rea...|         Simon's Cat|         15|cartoon|simons ca...| 103451| 6125|     107|          313|https://i.ytimg.c...|30.09|Cat|\n",
    "|Vjc459T6wX8|更なるフィット感を追求するねこ。-...|            mugumogu|         15|Maru|cat|kitty|pe...|  95741| 4749|      20|          487|https://i.ytimg.c...|16.09|cat|\n",
    "|-1fzGnFwz9M|                9 Things You Need...|         Simon's Cat|         15|cartoon|simons ca...| 189414| 7070|     112|          288|https://i.ytimg.c...|13.09|cat|\n",
    "|-1fzGnFwz9M|                9 Things You Need...|         Simon's Cat|         15|cartoon|simons ca...| 189414| 7070|     112|          288|https://i.ytimg.c...|13.09|Cat|\n",
    "|H7H0ZWwWKCw|                The Fire Whispere...|ExplosmEntertainment|         23|shorts|c&hshorts|...|1196355|48087|    1640|         3374|https://i.ytimg.c...|17.10|cat|\n",
    "|xbBMVa2A68s|                Cat vs Dog - Best...|             TierZoo|         20|cat|dog|cute|gami...| 373506|21420|     696|         5412|https://i.ytimg.c...|21.10|cat|\n",
    "|c5RsAXsZvI8|                7. Teach the Firs...|Clicker Learning ...|         15|cats|cat|kittens|...|   4962|    8|       0|            1|https://i.ytimg.c...|08.10|cat|\n",
    "|BY3SLVNBkeo|                Things you didn't...|         Simon's Cat|         15|cartoon|simons ca...| 111901| 5230|      71|          349|https://i.ytimg.c...|27.09|cat|\n",
    "|BY3SLVNBkeo|                Things you didn't...|         Simon's Cat|         15|cartoon|simons ca...| 111901| 5230|      71|          349|https://i.ytimg.c...|27.09|Cat|\n",
    "|0Yhaei1S5oQ|                Japan's Ominous D...|             SciShow|         27|SciShow|science|H...| 307749|11202|     150|          800|https://i.ytimg.c...|14.09|cat|\n",
    "|XA_jAJ-dWyQ|                 MEET MY NEW KITTEN!|       PsychoSoprano|         23|colleen ballinger...| 718813|49746|     399|         7263|https://i.ytimg.c...|07.10|cat|\n",
    "|S9VIKOuZcds|                My Sweet Jax (Tri...|             Hot Dad|         23|cat|feline|pets|b...|  25037| 2846|      11|          537|https://i.ytimg.c...|22.10|cat|\n",
    "|ruTB5jBGXsE|                Spider Cat - Simo...|         Simon's Cat|         15|cartoon|simons ca...| 576907|19225|     301|          831|https://i.ytimg.c...|12.10|cat|\n",
    "|ruTB5jBGXsE|                Spider Cat - Simo...|         Simon's Cat|         15|cartoon|simons ca...| 576907|19225|     301|          831|https://i.ytimg.c...|12.10|Cat|\n",
    "|ySon7Ou0vIM|                Kittens Come Out ...|         Jukin Media|         15|adorable|animal|b...|  36106|    0|       0|            0|https://i.ytimg.c...|10.10|cat|\n",
    "+-----------+------------------------------------+--------------------+-----------+--------------------+-------+-----+--------+-------------+--------------------+-----+---+"
   ]
  },
  {
   "cell_type": "code",
   "execution_count": 33,
   "id": "a2bd65e0-1455-44b0-9a29-49f3ca30ff2c",
   "metadata": {},
   "outputs": [
    {
     "name": "stdout",
     "output_type": "stream",
     "text": [
      "+-----------+--------------------+-----+-------+\n",
      "|   video_id|        comment_text|likes|replies|\n",
      "+-----------+--------------------+-----+-------+\n",
      "|XpVt6Z1Gjjo|Logan Paul it's y...|    4|      0|\n",
      "|XpVt6Z1Gjjo|I've been followi...|    3|      0|\n",
      "|XpVt6Z1Gjjo|Say hi to Kong an...|    3|      0|\n",
      "|XpVt6Z1Gjjo| MY FAN . attendance|    3|      0|\n",
      "|XpVt6Z1Gjjo|         trending 😉|    3|      0|\n",
      "|XpVt6Z1Gjjo|#1 on trending AY...|    3|      0|\n",
      "|XpVt6Z1Gjjo|The end though 😭...|    4|      0|\n",
      "|XpVt6Z1Gjjo|#1 trending!!!!!!!!!|    3|      0|\n",
      "|XpVt6Z1Gjjo|Happy one year vl...|    3|      0|\n",
      "|XpVt6Z1Gjjo|You and your shit...|    0|      0|\n",
      "|XpVt6Z1Gjjo|There should be a...|    0|      0|\n",
      "|XpVt6Z1Gjjo|Dear Logan, I rea...|    0|      0|\n",
      "|XpVt6Z1Gjjo|Honestly Evan is ...|    0|      0|\n",
      "|XpVt6Z1Gjjo|Casey is still be...|    0|      0|\n",
      "|XpVt6Z1Gjjo|aw geez rick this...|    0|      0|\n",
      "|XpVt6Z1Gjjo|He happy cause he...|    0|      0|\n",
      "|XpVt6Z1Gjjo|Ayyyyoooo Logang ...|    1|      0|\n",
      "|XpVt6Z1Gjjo|Bro y didnt u giv...|    0|      0|\n",
      "|XpVt6Z1Gjjo|It's been fun wat...|    3|      0|\n",
      "|XpVt6Z1Gjjo|Made a lot of peo...|    0|      0|\n",
      "+-----------+--------------------+-----+-------+\n",
      "only showing top 20 rows\n",
      "\n"
     ]
    }
   ],
   "source": [
    "# читаем датафрейм с комментариями\n",
    "comments_schema = StructType([ \\\n",
    "    StructField(\"video_id\", StringType(), True), \\\n",
    "    StructField(\"comment_text\", StringType(), True), \\\n",
    "    StructField(\"likes\", IntegerType(), True), \\\n",
    "    StructField(\"replies\", IntegerType(), True)])\n",
    "comments = spark.read.option('header', 'true').option(\"mode\", \"DROPMALFORMED\").schema(comments_schema).csv('../datasets/UScomments.csv')\n",
    "comments.show()"
   ]
  },
  {
   "cell_type": "code",
   "execution_count": 34,
   "id": "a2add3d7-8efc-4368-95ce-dfa3894b3929",
   "metadata": {},
   "outputs": [],
   "source": [
    "# отбираем комментарии у к видео про котов\n",
    "video_cat_tag_comments = comments.join(videos_cat_tag, \"video_id\", \"inner\")"
   ]
  },
  {
   "cell_type": "code",
   "execution_count": 35,
   "id": "d570883e-5e07-40b9-9c6c-1cdece7972ab",
   "metadata": {},
   "outputs": [
    {
     "data": {
      "text/plain": [
       "5901"
      ]
     },
     "execution_count": 35,
     "metadata": {},
     "output_type": "execute_result"
    }
   ],
   "source": [
    "video_cat_tag_comments.count()"
   ]
  },
  {
   "cell_type": "code",
   "execution_count": 36,
   "id": "67c67e81-495b-4bf9-84bb-370a271c18c5",
   "metadata": {},
   "outputs": [
    {
     "name": "stdout",
     "output_type": "stream",
     "text": [
      "+----------------------------------------------------------------------------------+\n",
      "|comment_text                                                                      |\n",
      "+----------------------------------------------------------------------------------+\n",
      "|The second I read this title in my notification, I started to giggle.             |\n",
      "|talk about the ocean sunfish build                                                |\n",
      "|talk about the ocean sunfish build                                                |\n",
      "|talk about the ocean sunfish build                                                |\n",
      "|I make interesting cartoons and I need your help! Go to the channel, rate my work!|\n",
      "+----------------------------------------------------------------------------------+\n",
      "only showing top 5 rows\n",
      "\n"
     ]
    }
   ],
   "source": [
    "# отображаем топ 5 комментариев по количеству лайков к видео про котов\n",
    "video_cat_tag_comments.orderBy(comments[\"likes\"].desc()).select(\"comment_text\").show(5, False)"
   ]
  },
  {
   "cell_type": "markdown",
   "id": "9bdc4eea-33ad-4ea5-92cc-d1f76e8cca50",
   "metadata": {},
   "source": [
    "# JOIN с оптимизацией Bucketing"
   ]
  },
  {
   "cell_type": "code",
   "execution_count": null,
   "id": "50a3d43b-587a-4314-ae1f-80e27505b0de",
   "metadata": {},
   "outputs": [],
   "source": [
    "# использована оптимизация Bucketing, так как датафреймы USvideos.csv и UScomments.csv считаем огромными, соответственно\n",
    "# даже при использовании фильтров по тегу Cat мы получим большое количество записей\n",
    "# для ускорения join оба датафрейма разбиты на 10 бакетов по ключу соединения"
   ]
  },
  {
   "cell_type": "code",
   "execution_count": 38,
   "id": "7b39c2d3-b8bf-4bd1-9f55-351569d24c29",
   "metadata": {},
   "outputs": [],
   "source": [
    "comments.write \\\n",
    "    .bucketBy(10, 'video_id') \\\n",
    "    .saveAsTable('comments_bucketed', format='csv', mode='overwrite')\n",
    "    \n",
    "videos_cat_tag.write \\\n",
    "    .bucketBy(10, 'video_id') \\\n",
    "    .saveAsTable('videos_cat_tag_bucketed', format='csv', mode='overwrite')"
   ]
  },
  {
   "cell_type": "code",
   "execution_count": 39,
   "id": "e7f1aaf9-25e0-46d2-8662-16f0eecde52f",
   "metadata": {},
   "outputs": [
    {
     "data": {
      "text/plain": [
       "5901"
      ]
     },
     "execution_count": 39,
     "metadata": {},
     "output_type": "execute_result"
    }
   ],
   "source": [
    "comments_bucketed = spark.table('comments_bucketed')\n",
    "videos_cat_tag_bucketed = spark.table('videos_cat_tag_bucketed')\n",
    "\n",
    "comments_bucketed \\\n",
    "    .join(videos_cat_tag_bucketed, \"video_id\", \"inner\") \\\n",
    "    .count()"
   ]
  },
  {
   "cell_type": "code",
   "execution_count": null,
   "id": "b55db784-e383-47ea-8bb6-b50c7185f040",
   "metadata": {},
   "outputs": [],
   "source": [
    "spark.stop()"
   ]
  }
 ],
 "metadata": {
  "kernelspec": {
   "display_name": "Python 3 (ipykernel)",
   "language": "python",
   "name": "python3"
  },
  "language_info": {
   "codemirror_mode": {
    "name": "ipython",
    "version": 3
   },
   "file_extension": ".py",
   "mimetype": "text/x-python",
   "name": "python",
   "nbconvert_exporter": "python",
   "pygments_lexer": "ipython3",
   "version": "3.11.3"
  }
 },
 "nbformat": 4,
 "nbformat_minor": 5
}
