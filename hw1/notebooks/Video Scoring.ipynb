{
 "cells": [
  {
   "cell_type": "code",
   "execution_count": 1,
   "id": "4b94b2e0-3796-411b-ad82-1b56e7f89e1f",
   "metadata": {},
   "outputs": [
    {
     "name": "stderr",
     "output_type": "stream",
     "text": [
      "/usr/local/spark/python/pyspark/pandas/__init__.py:50: UserWarning: 'PYARROW_IGNORE_TIMEZONE' environment variable was not set. It is required to set this environment variable to '1' in both driver and executor sides if you use pyarrow>=2.0.0. pandas-on-Spark will set it for you but it does not work if there is a Spark context already launched.\n",
      "  warnings.warn(\n"
     ]
    }
   ],
   "source": [
    "import timeit\n",
    "import pyspark\n",
    "import pyspark.pandas as ps\n",
    "from pyspark.sql import SparkSession\n",
    "from pyspark.sql.functions import *\n",
    "from pyspark.sql.types import *\n",
    "from pyspark.sql.window import Window\n",
    "from pyspark.sql.column import _to_java_column\n",
    "from pyspark.sql.column import _to_seq\n",
    "\n",
    "spark = SparkSession.builder.master(\"local\") \\\n",
    "    .config('spark.sql.autoBroadcastJoinThreshold', 0) \\\n",
    "    .config('spark.sql.adaptive.enabled', 'false') \\\n",
    "    .getOrCreate()\n",
    "\n",
    "sc = spark.sparkContext"
   ]
  },
  {
   "cell_type": "markdown",
   "id": "8af12e00-7113-4c33-b9ac-17021c130f63",
   "metadata": {},
   "source": [
    "# scored_videos"
   ]
  },
  {
   "cell_type": "raw",
   "id": "ae711e85-e00f-4fbf-9bd7-c7d77022f73e",
   "metadata": {},
   "source": [
    "Датасет на основе файла USvideos.csv с добавлением колонки, содержащей скор (показатель качества) видео. Никто не знает, как считать скор, поэтому формулу предлагается придумать вам. Но она должна включать в себя просмотры, лайки, дизлайки видео, лайки и дизлайки к комментариям к этому видео."
   ]
  },
  {
   "cell_type": "raw",
   "id": "9f43f4c1-4611-48ab-b9d7-0d5eb7589925",
   "metadata": {},
   "source": [
    "Датасеты USvideos.csv и UScomments.csv считаем огромными (нельзя помещать в broadcast или кэшировать), поэтому при сохранении датасета применим оптимизацию bucketing по ключу джойна video_id"
   ]
  },
  {
   "cell_type": "code",
   "execution_count": 9,
   "id": "08a8d7f3-f610-48dd-83a8-1bb13c8daef6",
   "metadata": {},
   "outputs": [],
   "source": [
    "videos = spark.read.option('header', 'true').option(\"inferSchema\", \"true\").csv('../datasets/USvideos.csv')\n",
    "videos.write \\\n",
    "    .bucketBy(10, 'video_id') \\\n",
    "    .saveAsTable('videos_bucketed', format='csv', mode='overwrite')"
   ]
  },
  {
   "cell_type": "code",
   "execution_count": 22,
   "id": "3606b998-e67c-4acc-9629-433e481e78d9",
   "metadata": {},
   "outputs": [],
   "source": [
    "comments_schema = StructType([ \\\n",
    "    StructField(\"video_id\", StringType(), True), \\\n",
    "    StructField(\"comment_text\", StringType(), True), \\\n",
    "    StructField(\"likes\", IntegerType(), True), \\\n",
    "    StructField(\"replies\", IntegerType(), True)])\n",
    "comments = spark.read.option('header', 'true').option(\"mode\", \"DROPMALFORMED\").schema(comments_schema).csv('../datasets/UScomments.csv')\n",
    "comments.write \\\n",
    "    .bucketBy(10, 'video_id') \\\n",
    "    .saveAsTable('comment_bucketed', format='csv', mode='overwrite')"
   ]
  },
  {
   "cell_type": "code",
   "execution_count": 23,
   "id": "92ef42f6-7017-4fb2-96b1-3abdb2036ae1",
   "metadata": {},
   "outputs": [
    {
     "name": "stdout",
     "output_type": "stream",
     "text": [
      "+-----------+--------------------+------------------+-----------+--------------------+-------+-----+--------+-------------+--------------------+-----+\n",
      "|   video_id|               title|     channel_title|category_id|                tags|  views|likes|dislikes|comment_total|      thumbnail_link| date|\n",
      "+-----------+--------------------+------------------+-----------+--------------------+-------+-----+--------+-------------+--------------------+-----+\n",
      "|WYYvHb03Eog|Apple iPhone X fi...|         The Verge|         28|apple iphone x ha...|2642103|24975|    4542|        12829|https://i.ytimg.c...|13.09|\n",
      "|1L7JFN7tQLs|iPhone X Hands on...| Jonathan Morrison|         28|Apple|iPhone X|iP...| 514972|18936|     641|         3817|https://i.ytimg.c...|13.09|\n",
      "|B7YaMkCl3XA|Hurricane Irma de...|Al Jazeera English|         25|5573051142001|ame...| 382525| 1521|     270|         1168|https://i.ytimg.c...|13.09|\n",
      "|5ywKal6-anc|Gigi Hadid Loses ...|               TMZ|         24|TMZ2016FS11221|TM...| 703750| 2921|    2196|         1042|https://i.ytimg.c...|13.09|\n",
      "|JhA1Wi9mrns|Kid Rock - Tennes...|          Kid Rock|         10|kid rock|greatest...|  96872| 3498|     482|          439|https://i.ytimg.c...|13.09|\n",
      "+-----------+--------------------+------------------+-----------+--------------------+-------+-----+--------+-------------+--------------------+-----+\n",
      "only showing top 5 rows\n",
      "\n"
     ]
    }
   ],
   "source": [
    "videos_bucketed = spark.table('videos_bucketed')\n",
    "videos_bucketed.show(5)"
   ]
  },
  {
   "cell_type": "code",
   "execution_count": 24,
   "id": "11547ce9-f26d-4382-a233-c693e6d6953e",
   "metadata": {},
   "outputs": [
    {
     "data": {
      "text/plain": [
       "7998"
      ]
     },
     "execution_count": 24,
     "metadata": {},
     "output_type": "execute_result"
    }
   ],
   "source": [
    "videos_bucketed.count()"
   ]
  },
  {
   "cell_type": "code",
   "execution_count": 25,
   "id": "0f3803f5-d21c-4d5e-a567-e1e9bdbbc4ee",
   "metadata": {},
   "outputs": [
    {
     "data": {
      "text/plain": [
       "2364"
      ]
     },
     "execution_count": 25,
     "metadata": {},
     "output_type": "execute_result"
    }
   ],
   "source": [
    "videos_bucketed.dropDuplicates(('video_id',)).count()"
   ]
  },
  {
   "cell_type": "code",
   "execution_count": 30,
   "id": "08c2faec-eb9e-4c96-bc88-a33bc3ae7f7b",
   "metadata": {},
   "outputs": [
    {
     "data": {
      "text/plain": [
       "2364"
      ]
     },
     "execution_count": 30,
     "metadata": {},
     "output_type": "execute_result"
    }
   ],
   "source": [
    "# отбираем последнюю запись для каждого видео\n",
    "windowSpec  = Window.partitionBy(\"video_id\").orderBy(col(\"date\").desc())\n",
    "\n",
    "videos_drop_dubl = videos_bucketed.withColumn(\"row_number\",row_number().over(windowSpec)) \\\n",
    "                                  .where(col(\"row_number\") == 1) \\\n",
    "                                  .drop(\"row_number\")\n",
    "videos_drop_dubl.count()"
   ]
  },
  {
   "cell_type": "code",
   "execution_count": 28,
   "id": "79e04bad-1b45-4f39-a19c-6c1f81cf9d21",
   "metadata": {},
   "outputs": [
    {
     "name": "stdout",
     "output_type": "stream",
     "text": [
      "+-----------+--------------------+-------------------+-----------+--------------------+-------+-----+--------+-------------+--------------------+-----+\n",
      "|   video_id|               title|      channel_title|category_id|                tags|  views|likes|dislikes|comment_total|      thumbnail_link| date|\n",
      "+-----------+--------------------+-------------------+-----------+--------------------+-------+-----+--------+-------------+--------------------+-----+\n",
      "|--JinobXWPk|DANGEROUS Jungle ...|   Brave Wilderness|         15|adventure|adventu...|1319945|38949|     533|         6768|https://i.ytimg.c...|20.10|\n",
      "|-3lMEZ6k5NA|170912 BTS singin...|        Kpop Plus01|         10|          170912 BTS| 201901|10034|     148|          591|https://i.ytimg.c...|15.09|\n",
      "|-5sCWsLlTCI|SNL Host Kumail N...|Saturday Night Live|         24|saturday night li...|  85052| 1458|      97|          132|https://i.ytimg.c...|14.10|\n",
      "|-SiRV2kWIxg|Madison Beer Play...|                RAW|         22|Madison Beer|RAW|...|  12305|  404|      16|           14|https://i.ytimg.c...|30.09|\n",
      "|-UAdFerZMWc|Watch Us Build a ...|              WIRED|         24|lego|lego star wa...|  35730| 1311|      44|          160|https://i.ytimg.c...|13.10|\n",
      "+-----------+--------------------+-------------------+-----------+--------------------+-------+-----+--------+-------------+--------------------+-----+\n",
      "only showing top 5 rows\n",
      "\n"
     ]
    }
   ],
   "source": [
    "videos_drop_dubl.show(5)"
   ]
  },
  {
   "cell_type": "code",
   "execution_count": 31,
   "id": "3d7f9aa9-5500-4c8c-a514-ab599c679a77",
   "metadata": {},
   "outputs": [
    {
     "data": {
      "text/plain": [
       "691318"
      ]
     },
     "execution_count": 31,
     "metadata": {},
     "output_type": "execute_result"
    }
   ],
   "source": [
    "comments_bucketed = spark.table('comment_bucketed')\n",
    "comments_bucketed.count()"
   ]
  },
  {
   "cell_type": "code",
   "execution_count": 32,
   "id": "6b53e2dd-2e5b-4338-b6f6-6306857d68eb",
   "metadata": {},
   "outputs": [
    {
     "name": "stdout",
     "output_type": "stream",
     "text": [
      "+-----------+--------------------+-----+-------+\n",
      "|   video_id|        comment_text|likes|replies|\n",
      "+-----------+--------------------+-----+-------+\n",
      "|sjlHnJvXdQs|Nothing's scarier...|    3|      0|\n",
      "|sjlHnJvXdQs|          Wa da fuq?|    0|      0|\n",
      "|sjlHnJvXdQs|Jacksfilms = sarc...|    0|      0|\n",
      "|sjlHnJvXdQs|Idióta, iphone ma...|    0|      0|\n",
      "|sjlHnJvXdQs|Iphone x imbibing...|    0|      0|\n",
      "+-----------+--------------------+-----+-------+\n",
      "only showing top 5 rows\n",
      "\n"
     ]
    }
   ],
   "source": [
    "comments_bucketed.show(5)"
   ]
  },
  {
   "cell_type": "code",
   "execution_count": 33,
   "id": "ee7bc31f-1b5a-49f6-a41d-1815d41d06c5",
   "metadata": {},
   "outputs": [
    {
     "data": {
      "text/plain": [
       "2266"
      ]
     },
     "execution_count": 33,
     "metadata": {},
     "output_type": "execute_result"
    }
   ],
   "source": [
    "comments_bucketed.dropDuplicates(('video_id',)).count()"
   ]
  },
  {
   "cell_type": "code",
   "execution_count": 35,
   "id": "ae9357c4-c08d-4caf-8b35-ae4971e61103",
   "metadata": {},
   "outputs": [
    {
     "data": {
      "text/plain": [
       "2266"
      ]
     },
     "execution_count": 35,
     "metadata": {},
     "output_type": "execute_result"
    }
   ],
   "source": [
    "# агрегируем лайки к комментариям для добавления их в расчета скора\n",
    "comments_likes = comments_bucketed.groupBy('video_id')\\\n",
    "                                  .agg(sum('likes').alias('comment_likes'), \n",
    "                                       sum('replies').alias('comment_replies'))\n",
    "comments_likes.count()"
   ]
  },
  {
   "cell_type": "code",
   "execution_count": 36,
   "id": "cc863560-d49f-4766-a833-b120d9cf8ab1",
   "metadata": {},
   "outputs": [
    {
     "data": {
      "text/plain": [
       "2266"
      ]
     },
     "execution_count": 36,
     "metadata": {},
     "output_type": "execute_result"
    }
   ],
   "source": [
    "# добавляем лайки к комментариям к датасету с видео\n",
    "videos = videos_drop_dubl.join(comments_likes, 'video_id')\n",
    "videos.count()"
   ]
  },
  {
   "cell_type": "code",
   "execution_count": 37,
   "id": "83472dc3-220c-4d67-b5ab-459cb79f4868",
   "metadata": {},
   "outputs": [
    {
     "name": "stdout",
     "output_type": "stream",
     "text": [
      "+-----------+--------------------+-------------------+-----------+--------------------+-------+-----+--------+-------------+--------------------+-----+-------------+---------------+\n",
      "|   video_id|               title|      channel_title|category_id|                tags|  views|likes|dislikes|comment_total|      thumbnail_link| date|comment_likes|comment_replies|\n",
      "+-----------+--------------------+-------------------+-----------+--------------------+-------+-----+--------+-------------+--------------------+-----+-------------+---------------+\n",
      "|--JinobXWPk|DANGEROUS Jungle ...|   Brave Wilderness|         15|adventure|adventu...|1319945|38949|     533|         6768|https://i.ytimg.c...|20.10|           19|              1|\n",
      "|-5sCWsLlTCI|SNL Host Kumail N...|Saturday Night Live|         24|saturday night li...|  85052| 1458|      97|          132|https://i.ytimg.c...|14.10|          494|             39|\n",
      "|-SiRV2kWIxg|Madison Beer Play...|                RAW|         22|Madison Beer|RAW|...|  12305|  404|      16|           14|https://i.ytimg.c...|30.09|          100|              1|\n",
      "|-UAdFerZMWc|Watch Us Build a ...|              WIRED|         24|lego|lego star wa...|  35730| 1311|      44|          160|https://i.ytimg.c...|13.10|          968|             99|\n",
      "|-_CmfnzbLFc|Idris Elba Talks ...|           The View|         24|Idris Elba|The Mo...| 107469| 1487|      31|          414|https://i.ytimg.c...|09.10|         1038|            101|\n",
      "+-----------+--------------------+-------------------+-----------+--------------------+-------+-----+--------+-------------+--------------------+-----+-------------+---------------+\n",
      "only showing top 5 rows\n",
      "\n"
     ]
    }
   ],
   "source": [
    "videos.show(5)"
   ]
  },
  {
   "cell_type": "code",
   "execution_count": 38,
   "id": "d281e406-b3e0-42ee-9e2c-636bcb54c7f4",
   "metadata": {},
   "outputs": [],
   "source": [
    "# Определяем веса для факторов\n",
    "weight_views = 0.5\n",
    "weight_comments = 0.2\n",
    "weight_comments_likes = 0.1\n",
    "weight_likes = 0.2\n",
    "weight_dislikes = -0.2"
   ]
  },
  {
   "cell_type": "code",
   "execution_count": 42,
   "id": "bb6ac433-403f-47fa-a54d-040c629cb0d4",
   "metadata": {},
   "outputs": [],
   "source": [
    "# формула для расчета скора\n",
    "score = videos['views'] * lit(weight_views) \\\n",
    "        + videos['likes'] * lit(weight_likes) \\\n",
    "        + videos['comment_likes'] * lit(weight_comments_likes) \\\n",
    "        + videos['comment_total'] * lit(weight_comments) \\\n",
    "        + videos['dislikes'] * lit(weight_dislikes) "
   ]
  },
  {
   "cell_type": "raw",
   "id": "a45a1720-d87b-495a-8ea1-a77f3fe7069e",
   "metadata": {},
   "source": [
    "# scored_videos - датасет на основе файла USvideos.csv с добавлением колонки, содержащей скор \n",
    "scored_videos = videos.withColumn('score', score)\n",
    "scored_videos.show(5)"
   ]
  },
  {
   "cell_type": "markdown",
   "id": "83ad5cd0-9ba5-4634-acdf-ef2e7ff6f314",
   "metadata": {},
   "source": [
    "# categories_score"
   ]
  },
  {
   "cell_type": "code",
   "execution_count": null,
   "id": "905b749d-8749-4f28-a6d4-2a5e7fae981c",
   "metadata": {},
   "outputs": [],
   "source": [
    "датасет по категориям, в котором присутствуют следующие поля: Название категории (не id, он непонятный для аналитиков!) - \n",
    "можно найти в файле US_category_id.json . Медиана показателя score из датасета scored_videos по каждой категории."
   ]
  },
  {
   "cell_type": "code",
   "execution_count": 44,
   "id": "3a2c9f85-ab2d-49fc-9d19-3814873ecd6c",
   "metadata": {},
   "outputs": [
    {
     "name": "stdout",
     "output_type": "stream",
     "text": [
      "+--------------------+\n",
      "|               items|\n",
      "+--------------------+\n",
      "|[{\"m2yskBQFythfE4...|\n",
      "+--------------------+\n",
      "\n"
     ]
    }
   ],
   "source": [
    "# читаем json us_category_id\n",
    "us_category_id = spark.read \\\n",
    "    .option(\"multiline\",\"true\") \\\n",
    "    .json('../datasets/US_category_id.json') \\\n",
    "    .select('items')\n",
    "us_category_id.show(10, True)"
   ]
  },
  {
   "cell_type": "code",
   "execution_count": 45,
   "id": "db7863de-81c0-490b-9e1c-bd90fa107f95",
   "metadata": {},
   "outputs": [
    {
     "name": "stdout",
     "output_type": "stream",
     "text": [
      "+---+---+\n",
      "|pos| id|\n",
      "+---+---+\n",
      "|  0|  1|\n",
      "|  1|  2|\n",
      "|  2| 10|\n",
      "|  3| 15|\n",
      "|  4| 17|\n",
      "+---+---+\n",
      "only showing top 5 rows\n",
      "\n"
     ]
    }
   ],
   "source": [
    "# извлекаем id категорий\n",
    "id = us_category_id.select(posexplode(col(\"items.id\")).alias(\"pos\", \"id\"))\n",
    "id.show(5)"
   ]
  },
  {
   "cell_type": "code",
   "execution_count": 46,
   "id": "736fbf79-f002-4e49-b0c1-41b497888d1a",
   "metadata": {},
   "outputs": [],
   "source": [
    "# извлекаем категории\n",
    "category = us_category_id.select(posexplode(col(\"items.snippet.title\")).alias(\"pos\", \"title\"))"
   ]
  },
  {
   "cell_type": "code",
   "execution_count": 47,
   "id": "920ed642-1ff2-4c0e-a38d-1947a3f2195c",
   "metadata": {},
   "outputs": [
    {
     "name": "stdout",
     "output_type": "stream",
     "text": [
      "+-----------+----------------+\n",
      "|category_id|   category_name|\n",
      "+-----------+----------------+\n",
      "|          1|Film & Animation|\n",
      "|         10|           Music|\n",
      "|         15|  Pets & Animals|\n",
      "|         17|          Sports|\n",
      "|         18|    Short Movies|\n",
      "|         19| Travel & Events|\n",
      "|          2|Autos & Vehicles|\n",
      "|         20|          Gaming|\n",
      "|         21|   Videoblogging|\n",
      "|         22|  People & Blogs|\n",
      "+-----------+----------------+\n",
      "only showing top 10 rows\n",
      "\n"
     ]
    }
   ],
   "source": [
    "# мапим категории и id, приводим id к типу Integer\n",
    "category_id_name = id.join(category, \"pos\", \"inner\").select(col(\"id\").cast(IntegerType()).alias(\"category_id\"), col(\"title\").alias(\"category_name\"))\n",
    "category_id_name.orderBy(\"id\").show(10)"
   ]
  },
  {
   "cell_type": "code",
   "execution_count": 16,
   "id": "12305414-5fa6-4ef7-9915-cd96a7ac2029",
   "metadata": {},
   "outputs": [
    {
     "data": {
      "text/plain": [
       "2364"
      ]
     },
     "execution_count": 16,
     "metadata": {},
     "output_type": "execute_result"
    }
   ],
   "source": [
    "scored_videos_and_category.count()"
   ]
  },
  {
   "cell_type": "code",
   "execution_count": null,
   "id": "b706ba7a-f7bf-44a2-ba9a-ced0c6034787",
   "metadata": {},
   "outputs": [],
   "source": [
    "# датафрейм с маппингом категория - id является не большим, это своего рода справочник, который нужно приджойнить к основному \n",
    "# датафрейму с видео для того, чтобы получить понятные для аналитика названия категорий, поэтому для оптимизации джойна использован \n",
    "# бродкаст маленького датафрейма"
   ]
  },
  {
   "cell_type": "code",
   "execution_count": 49,
   "id": "64539570-1c45-44f7-b4c6-3bf72ff57cdc",
   "metadata": {},
   "outputs": [
    {
     "data": {
      "text/plain": [
       "2266"
      ]
     },
     "execution_count": 49,
     "metadata": {},
     "output_type": "execute_result"
    }
   ],
   "source": [
    "scored_videos_and_category = scored_videos.join(broadcast(category_id_name), \"category_id\", \"inner\")\n",
    "scored_videos_and_category.count()"
   ]
  },
  {
   "cell_type": "code",
   "execution_count": 50,
   "id": "eaf8b1f0-d3f2-4ef7-baf5-f5daef571343",
   "metadata": {},
   "outputs": [
    {
     "name": "stdout",
     "output_type": "stream",
     "text": [
      "+-----------+-----------+--------------------+-------------------+--------------------+-------+-----+--------+-------------+--------------------+-----+-------------+---------------+-----------------+--------------+\n",
      "|category_id|   video_id|               title|      channel_title|                tags|  views|likes|dislikes|comment_total|      thumbnail_link| date|comment_likes|comment_replies|            score| category_name|\n",
      "+-----------+-----------+--------------------+-------------------+--------------------+-------+-----+--------+-------------+--------------------+-----+-------------+---------------+-----------------+--------------+\n",
      "|         15|--JinobXWPk|DANGEROUS Jungle ...|   Brave Wilderness|adventure|adventu...|1319945|38949|     533|         6768|https://i.ytimg.c...|20.10|           19|              1|669011.2000000001|Pets & Animals|\n",
      "|         24|-5sCWsLlTCI|SNL Host Kumail N...|Saturday Night Live|saturday night li...|  85052| 1458|      97|          132|https://i.ytimg.c...|14.10|          494|             39|          42874.0| Entertainment|\n",
      "|         22|-SiRV2kWIxg|Madison Beer Play...|                RAW|Madison Beer|RAW|...|  12305|  404|      16|           14|https://i.ytimg.c...|30.09|          100|              1|6242.900000000001|People & Blogs|\n",
      "|         24|-UAdFerZMWc|Watch Us Build a ...|              WIRED|lego|lego star wa...|  35730| 1311|      44|          160|https://i.ytimg.c...|13.10|          968|             99|          18247.2| Entertainment|\n",
      "|         24|-_CmfnzbLFc|Idris Elba Talks ...|           The View|Idris Elba|The Mo...| 107469| 1487|      31|          414|https://i.ytimg.c...|09.10|         1038|            101|54212.30000000001| Entertainment|\n",
      "+-----------+-----------+--------------------+-------------------+--------------------+-------+-----+--------+-------------+--------------------+-----+-------------+---------------+-----------------+--------------+\n",
      "only showing top 5 rows\n",
      "\n"
     ]
    }
   ],
   "source": [
    "scored_videos_and_category.show(5)"
   ]
  },
  {
   "cell_type": "code",
   "execution_count": 51,
   "id": "9e6eda99-308d-41cf-b2db-fae8629e7a9b",
   "metadata": {},
   "outputs": [],
   "source": [
    "categories_score_pandas = scored_videos_and_category.pandas_api()"
   ]
  },
  {
   "cell_type": "code",
   "execution_count": 52,
   "id": "2028fa40-8662-42a7-8525-03c557883fe6",
   "metadata": {},
   "outputs": [
    {
     "data": {
      "text/html": [
       "<div>\n",
       "<style scoped>\n",
       "    .dataframe tbody tr th:only-of-type {\n",
       "        vertical-align: middle;\n",
       "    }\n",
       "\n",
       "    .dataframe tbody tr th {\n",
       "        vertical-align: top;\n",
       "    }\n",
       "\n",
       "    .dataframe thead th {\n",
       "        text-align: right;\n",
       "    }\n",
       "</style>\n",
       "<table border=\"1\" class=\"dataframe\">\n",
       "  <thead>\n",
       "    <tr style=\"text-align: right;\">\n",
       "      <th></th>\n",
       "      <th>category_id</th>\n",
       "      <th>video_id</th>\n",
       "      <th>title</th>\n",
       "      <th>channel_title</th>\n",
       "      <th>tags</th>\n",
       "      <th>views</th>\n",
       "      <th>likes</th>\n",
       "      <th>dislikes</th>\n",
       "      <th>comment_total</th>\n",
       "      <th>thumbnail_link</th>\n",
       "      <th>date</th>\n",
       "      <th>comment_likes</th>\n",
       "      <th>comment_replies</th>\n",
       "      <th>score</th>\n",
       "      <th>category_name</th>\n",
       "    </tr>\n",
       "  </thead>\n",
       "  <tbody>\n",
       "    <tr>\n",
       "      <th>0</th>\n",
       "      <td>15</td>\n",
       "      <td>--JinobXWPk</td>\n",
       "      <td>DANGEROUS Jungle Spider!</td>\n",
       "      <td>Brave Wilderness</td>\n",
       "      <td>adventure|adventurous|animals|breaking|breakin...</td>\n",
       "      <td>1319945</td>\n",
       "      <td>38949</td>\n",
       "      <td>533</td>\n",
       "      <td>6768</td>\n",
       "      <td>https://i.ytimg.com/vi/--JinobXWPk/default.jpg</td>\n",
       "      <td>20.10</td>\n",
       "      <td>19</td>\n",
       "      <td>1</td>\n",
       "      <td>669011.2</td>\n",
       "      <td>Pets &amp; Animals</td>\n",
       "    </tr>\n",
       "    <tr>\n",
       "      <th>1</th>\n",
       "      <td>24</td>\n",
       "      <td>-5sCWsLlTCI</td>\n",
       "      <td>SNL Host Kumail Nanjiani and P!nk Share Favori...</td>\n",
       "      <td>Saturday Night Live</td>\n",
       "      <td>saturday night live|snl|snl season 43|kumail n...</td>\n",
       "      <td>85052</td>\n",
       "      <td>1458</td>\n",
       "      <td>97</td>\n",
       "      <td>132</td>\n",
       "      <td>https://i.ytimg.com/vi/-5sCWsLlTCI/default.jpg</td>\n",
       "      <td>14.10</td>\n",
       "      <td>494</td>\n",
       "      <td>39</td>\n",
       "      <td>42874.0</td>\n",
       "      <td>Entertainment</td>\n",
       "    </tr>\n",
       "    <tr>\n",
       "      <th>2</th>\n",
       "      <td>22</td>\n",
       "      <td>-SiRV2kWIxg</td>\n",
       "      <td>Madison Beer Plays RAW's This Or That</td>\n",
       "      <td>RAW</td>\n",
       "      <td>Madison Beer|RAW|RAW Pages|Interview|Word Play...</td>\n",
       "      <td>12305</td>\n",
       "      <td>404</td>\n",
       "      <td>16</td>\n",
       "      <td>14</td>\n",
       "      <td>https://i.ytimg.com/vi/-SiRV2kWIxg/default.jpg</td>\n",
       "      <td>30.09</td>\n",
       "      <td>100</td>\n",
       "      <td>1</td>\n",
       "      <td>6242.9</td>\n",
       "      <td>People &amp; Blogs</td>\n",
       "    </tr>\n",
       "    <tr>\n",
       "      <th>3</th>\n",
       "      <td>24</td>\n",
       "      <td>-UAdFerZMWc</td>\n",
       "      <td>Watch Us Build a 7,500 Piece Lego Millennium F...</td>\n",
       "      <td>WIRED</td>\n",
       "      <td>lego|lego star wars|millennium falcon|star war...</td>\n",
       "      <td>35730</td>\n",
       "      <td>1311</td>\n",
       "      <td>44</td>\n",
       "      <td>160</td>\n",
       "      <td>https://i.ytimg.com/vi/-UAdFerZMWc/default.jpg</td>\n",
       "      <td>13.10</td>\n",
       "      <td>968</td>\n",
       "      <td>99</td>\n",
       "      <td>18247.2</td>\n",
       "      <td>Entertainment</td>\n",
       "    </tr>\n",
       "    <tr>\n",
       "      <th>4</th>\n",
       "      <td>24</td>\n",
       "      <td>-_CmfnzbLFc</td>\n",
       "      <td>Idris Elba Talks Childhood, Playing American R...</td>\n",
       "      <td>The View</td>\n",
       "      <td>Idris Elba|The Mountain Between Us|The Dark To...</td>\n",
       "      <td>107469</td>\n",
       "      <td>1487</td>\n",
       "      <td>31</td>\n",
       "      <td>414</td>\n",
       "      <td>https://i.ytimg.com/vi/-_CmfnzbLFc/default.jpg</td>\n",
       "      <td>09.10</td>\n",
       "      <td>1038</td>\n",
       "      <td>101</td>\n",
       "      <td>54212.3</td>\n",
       "      <td>Entertainment</td>\n",
       "    </tr>\n",
       "  </tbody>\n",
       "</table>\n",
       "</div>"
      ],
      "text/plain": [
       "   category_id     video_id                                                                                         title        channel_title                                                                                                                                                                                                                                                                                                                                                                                                                                                                      tags    views  likes  dislikes  comment_total                                  thumbnail_link   date  comment_likes  comment_replies     score   category_name\n",
       "0           15  --JinobXWPk                                                                      DANGEROUS Jungle Spider!     Brave Wilderness  adventure|adventurous|animals|breaking|breaking trail|coyote|coyote peterson|peterson|snapping turtle|trail|wild|black widow spider|spider|brave|brave wilderness|wildlife|black widow challenge|spider bite|brown recluse|holding a black widow|deadly spider|dangerous spider|scary|golden orb weaver|big creepy spider|spider challenge|giant spider|animal adventure|jungle spider|wandering spider|brazilian wandering spider|banana spider|dangerous jungle spider  1319945  38949       533           6768  https://i.ytimg.com/vi/--JinobXWPk/default.jpg  20.10             19                1  669011.2  Pets & Animals\n",
       "1           24  -5sCWsLlTCI                                       SNL Host Kumail Nanjiani and P!nk Share Favorite Colors  Saturday Night Live                                                                                                                  saturday night live|snl|snl season 43|kumail nanjiani|snl host kumail nanjiani|kumail nanjiani snl|pink|snl musical guest pink|pink snl|aidy bryant|the big sick|so what|studio|host|promo|rachel maddow|page|comedian|actor|writer|funny|hilarious|comedy|lego|ninjago movie|silicon valley|what about us|p!nk|green|favorite color|inspire|inspiration    85052   1458        97            132  https://i.ytimg.com/vi/-5sCWsLlTCI/default.jpg  14.10            494               39   42874.0   Entertainment\n",
       "2           22  -SiRV2kWIxg                                                         Madison Beer Plays RAW's This Or That                  RAW                                                                                                                                                                                                                                                                                                                                                                                                     Madison Beer|RAW|RAW Pages|Interview|Word Play|Drake|Brooklyn Beckham    12305    404        16             14  https://i.ytimg.com/vi/-SiRV2kWIxg/default.jpg  30.09            100                1    6242.9  People & Blogs\n",
       "3           24  -UAdFerZMWc                                   Watch Us Build a 7,500 Piece Lego Millennium Falcon | WIRED                WIRED                                                                                                         lego|lego star wars|millennium falcon|star wars|largest lego construction ever|star wars lego|largest lego set|most expensive lego set|lego millenium falcon|lego set|millenium falcon legos|legos|star wars lego set|building lego|millenium falcon star wars|star wars set|lego star wars set|millenium falcon build|lego build|wired|wired.com|tech|technology    35730   1311        44            160  https://i.ytimg.com/vi/-UAdFerZMWc/default.jpg  13.10            968               99   18247.2   Entertainment\n",
       "4           24  -_CmfnzbLFc  Idris Elba Talks Childhood, Playing American Roles, And 'The Mountain Between Us' | The View             The View                                                                                                                                                                                                                                                                                                                                                                                      Idris Elba|The Mountain Between Us|The Dark Tower|movies|entertainment|film|the view   107469   1487        31            414  https://i.ytimg.com/vi/-_CmfnzbLFc/default.jpg  09.10           1038              101   54212.3   Entertainment"
      ]
     },
     "execution_count": 52,
     "metadata": {},
     "output_type": "execute_result"
    }
   ],
   "source": [
    "categories_score_pandas.head(5)"
   ]
  },
  {
   "cell_type": "code",
   "execution_count": 53,
   "id": "c0f35962-03c1-4e1d-8353-9aced88b4d11",
   "metadata": {},
   "outputs": [],
   "source": [
    "# мсчитаем медиану по категориям\n",
    "categories_score = categories_score_pandas.groupby('category_name')['score'].median()"
   ]
  },
  {
   "cell_type": "code",
   "execution_count": 21,
   "id": "00ede4d8-75f3-4254-8bb4-0cc451d8a97d",
   "metadata": {},
   "outputs": [
    {
     "data": {
      "text/plain": [
       "category_name\n",
       "Shows                      4395.1\n",
       "Education                127538.4\n",
       "Gaming                   126462.4\n",
       "Entertainment            192165.7\n",
       "Travel & Events          105931.7\n",
       "Science & Technology     158050.0\n",
       "Sports                    66815.1\n",
       "Howto & Style            124715.6\n",
       "Nonprofits & Activism     28155.5\n",
       "Film & Animation         160161.3\n",
       "People & Blogs           121552.8\n",
       "News & Politics           83608.7\n",
       "Pets & Animals            96185.0\n",
       "Autos & Vehicles          84353.2\n",
       "Music                    122129.2\n",
       "Comedy                   398643.1\n",
       "Name: score, dtype: float64"
      ]
     },
     "execution_count": 21,
     "metadata": {},
     "output_type": "execute_result"
    }
   ],
   "source": [
    "categories_score"
   ]
  },
  {
   "cell_type": "markdown",
   "id": "9932e69a-8eb5-4478-9350-6189c0ad1fc5",
   "metadata": {},
   "source": [
    "# popular_tags"
   ]
  },
  {
   "cell_type": "raw",
   "id": "c629c2ff-6f41-4fd9-85fb-a52baf585cb0",
   "metadata": {},
   "source": [
    "датасет по самым популярным тэгам (название тэга + количество видео с этим тэгом). В исходном датасете тэги лежат строкой в поле tags. Другие разработчики уже сталкивались с подобной задачей, поэтому написали Scala-функцию для разбиения тегов (код функции - в разделе Примечания). Но не доверяйте им вслепую! Обязательно напишите свою UDF-функцию разбиения строки на тэги и сравните время работы с её Scala-версией. Можно замерять своими силами, а можно воспользоваться библиотекой timeit. Стандартные функции Spark из пакета pyspark.sq.functions использовать нельзя, нужно написать свою функцию."
   ]
  },
  {
   "cell_type": "raw",
   "id": "a17e209d-eb69-470f-9d6a-9f55b422105f",
   "metadata": {},
   "source": [
    "Код Scala-функции\n",
    "object CustomUDFs {\n",
    "  def splitTags(s: String): Array[String] = s.split('|')\n",
    "  val splitTagsUDF: UserDefinedFunction = udf(splitTags _)\n",
    "}"
   ]
  },
  {
   "cell_type": "code",
   "execution_count": 54,
   "id": "2e161b82-b748-4b30-a5f3-81504ab5d88e",
   "metadata": {},
   "outputs": [],
   "source": [
    "def udfSplitTagsScalaWrapper(field):\n",
    "    _splitTagsUDF = sc._jvm.CustomUDFs.splitTagsUDF()\n",
    "    return Column(_splitTagsUDF.apply(_to_seq(sc, [field], _to_java_column)))"
   ]
  },
  {
   "cell_type": "code",
   "execution_count": 55,
   "id": "bbdcf007-d16d-4cd3-897b-35a517498eef",
   "metadata": {},
   "outputs": [
    {
     "name": "stdout",
     "output_type": "stream",
     "text": [
      "+------+-----+\n",
      "|   Tag|count|\n",
      "+------+-----+\n",
      "| funny|  217|\n",
      "|comedy|  163|\n",
      "|[none]|  144|\n",
      "|  2017|   93|\n",
      "| humor|   92|\n",
      "|how to|   84|\n",
      "|makeup|   77|\n",
      "| music|   74|\n",
      "|  vlog|   73|\n",
      "| video|   71|\n",
      "+------+-----+\n",
      "only showing top 10 rows\n",
      "\n"
     ]
    }
   ],
   "source": [
    "videos_drop_dubl_spl_tags1 = videos_drop_dubl.withColumn('Tag', explode(udfSplitTagsScalaWrapper(col('tags'))))\n",
    "popular_tags1 = videos_drop_dubl_spl_tags1.groupBy('Tag').count()\n",
    "popular_tags1.orderBy(col('count').desc()).show(10)"
   ]
  },
  {
   "cell_type": "code",
   "execution_count": 56,
   "id": "6ed0c599-25ee-4faf-86d4-4164604cfaa7",
   "metadata": {},
   "outputs": [
    {
     "name": "stdout",
     "output_type": "stream",
     "text": [
      "Execution time: 0.010183083999436349 seconds\n"
     ]
    }
   ],
   "source": [
    "code_to_measure = \"\"\"\n",
    "videos_drop_dubl_spl_tags1 = videos_drop_dubl.withColumn('Tag', explode(udfSplitTagsScalaWrapper(col('tags'))))\n",
    "popular_tags1 = videos_drop_dubl_spl_tags1.groupBy('Tag').count()\n",
    "\"\"\"\n",
    "setup_code = \"\"\"\n",
    "import pyspark\n",
    "from pyspark.sql.functions import row_number, col, explode, udf\n",
    "from pyspark.sql.column import _to_java_column\n",
    "from pyspark.sql.column import _to_seq\n",
    "from pyspark.sql import SparkSession, Column\n",
    "from pyspark.sql.window import Window\n",
    "from pyspark.sql.types import ArrayType, StringType\n",
    "\n",
    "\n",
    "spark = SparkSession.builder.master(\"local\") \\\n",
    "    .config('spark.sql.autoBroadcastJoinThreshold', 0) \\\n",
    "    .config('spark.sql.adaptive.enabled', 'false') \\\n",
    "    .getOrCreate()\n",
    "sc = spark.sparkContext\n",
    "\n",
    "videos = spark.read.option('header', 'true').option(\"inferSchema\", \"true\").csv('../datasets/USvideos.csv')\n",
    "windowSpec  = Window.partitionBy(\"video_id\").orderBy(col(\"date\").desc())\n",
    "videos_drop_dubl = videos.withColumn(\"row_number\",row_number().over(windowSpec)) \\\n",
    "                         .where(col(\"row_number\") == 1) \\\n",
    "                         .drop(\"row_number\")\n",
    "\n",
    "def udfSplitTagsScalaWrapper(field):\n",
    "    _splitTagsUDF = sc._jvm.CustomUDFs.splitTagsUDF()\n",
    "    return Column(_splitTagsUDF.apply(_to_seq(sc, [field], _to_java_column)))\n",
    "\"\"\"\n",
    "execution_time = timeit.timeit(stmt=code_to_measure, setup=setup_code, number=1)\n",
    "print(f\"Execution time: {execution_time} seconds\")"
   ]
  },
  {
   "cell_type": "code",
   "execution_count": 57,
   "id": "1e51ffef-a19b-4c7d-a0c6-860564322c2d",
   "metadata": {},
   "outputs": [],
   "source": [
    "# определяем UDF для разбивки тегов\n",
    "def split_tags(tags):\n",
    "    if tags:\n",
    "        return tags.split('|')\n",
    "    else:\n",
    "        return []\n",
    "# Create a UDF from the split_tags function\n",
    "split_tags_udf = udf(split_tags, ArrayType(StringType()))"
   ]
  },
  {
   "cell_type": "code",
   "execution_count": 58,
   "id": "b4c0c840-2a15-45c9-bec4-c4f3387e40c2",
   "metadata": {},
   "outputs": [
    {
     "name": "stdout",
     "output_type": "stream",
     "text": [
      "+------+-----+\n",
      "|   Tag|count|\n",
      "+------+-----+\n",
      "| funny|  217|\n",
      "|comedy|  163|\n",
      "|[none]|  144|\n",
      "|  2017|   93|\n",
      "| humor|   92|\n",
      "|how to|   84|\n",
      "|makeup|   77|\n",
      "| music|   74|\n",
      "|  vlog|   73|\n",
      "| video|   71|\n",
      "+------+-----+\n",
      "only showing top 10 rows\n",
      "\n"
     ]
    }
   ],
   "source": [
    "videos_drop_dubl_spl_tags = videos_drop_dubl.withColumn('Tag', explode(split_tags_udf(col('tags'))))\n",
    "popular_tags = videos_drop_dubl_spl_tags.groupBy('Tag').count()\n",
    "popular_tags.orderBy(col('count').desc()).show(10)"
   ]
  },
  {
   "cell_type": "code",
   "execution_count": 59,
   "id": "64c82f97-2131-47c6-b99d-336593914bf5",
   "metadata": {},
   "outputs": [
    {
     "name": "stdout",
     "output_type": "stream",
     "text": [
      "Execution time: 0.01330812499509193 seconds\n"
     ]
    }
   ],
   "source": [
    "code_to_measure = \"\"\"\n",
    "videos_drop_dubl_spl_tags = videos_drop_dubl.withColumn('Tag', explode(split_tags_udf(col('tags'))))\n",
    "popular_tags = videos_drop_dubl_spl_tags.groupBy('Tag').count()\n",
    "\"\"\"\n",
    "setup_code = \"\"\"\n",
    "import pyspark\n",
    "from pyspark.sql.functions import row_number, col, explode, udf\n",
    "from pyspark.sql import SparkSession\n",
    "from pyspark.sql.window import Window\n",
    "from pyspark.sql.types import ArrayType, StringType\n",
    "\n",
    "spark = SparkSession.builder.master(\"local\") \\\n",
    "    .config('spark.sql.autoBroadcastJoinThreshold', 0) \\\n",
    "    .config('spark.sql.adaptive.enabled', 'false') \\\n",
    "    .getOrCreate()\n",
    "sc = spark.sparkContext\n",
    "\n",
    "videos = spark.read.option('header', 'true').option(\"inferSchema\", \"true\").csv('../datasets/USvideos.csv')\n",
    "windowSpec  = Window.partitionBy(\"video_id\").orderBy(col(\"date\").desc())\n",
    "videos_drop_dubl = videos.withColumn(\"row_number\",row_number().over(windowSpec)) \\\n",
    "                         .where(col(\"row_number\") == 1) \\\n",
    "                         .drop(\"row_number\")\n",
    "\n",
    "\n",
    "def split_tags(tags):\n",
    "    if tags:\n",
    "        return tags.split('|')\n",
    "    else:\n",
    "        return []\n",
    "# Create a UDF from the split_tags function\n",
    "split_tags_udf = udf(split_tags, ArrayType(StringType()))\n",
    "\"\"\"\n",
    "execution_time = timeit.timeit(stmt=code_to_measure, setup=setup_code, number=1)\n",
    "print(f\"Execution time: {execution_time} seconds\")"
   ]
  },
  {
   "cell_type": "markdown",
   "id": "558d7c89-2584-465a-addd-33bbdf479e2f",
   "metadata": {},
   "source": [
    "# Cats"
   ]
  },
  {
   "cell_type": "raw",
   "id": "9ce3d7ec-5e37-407a-b2f5-4069558e7472",
   "metadata": {},
   "source": [
    "Cамые интересные комментарии (топ-5) к видео про котов. “Видео про котов” - видео, у которого есть тэг “cat”."
   ]
  },
  {
   "cell_type": "code",
   "execution_count": 60,
   "id": "bdc41c49-217c-4cb1-8a77-d1bfb58c79fe",
   "metadata": {},
   "outputs": [
    {
     "name": "stdout",
     "output_type": "stream",
     "text": [
      "+-----------+--------------------+----------------+-----------+--------------------+-------+-----+--------+-------------+--------------------+-----+--------------+\n",
      "|   video_id|               title|   channel_title|category_id|                tags|  views|likes|dislikes|comment_total|      thumbnail_link| date|           Tag|\n",
      "+-----------+--------------------+----------------+-----------+--------------------+-------+-----+--------+-------------+--------------------+-----+--------------+\n",
      "|--JinobXWPk|DANGEROUS Jungle ...|Brave Wilderness|         15|adventure|adventu...|1319945|38949|     533|         6768|https://i.ytimg.c...|20.10|     adventure|\n",
      "|--JinobXWPk|DANGEROUS Jungle ...|Brave Wilderness|         15|adventure|adventu...|1319945|38949|     533|         6768|https://i.ytimg.c...|20.10|   adventurous|\n",
      "|--JinobXWPk|DANGEROUS Jungle ...|Brave Wilderness|         15|adventure|adventu...|1319945|38949|     533|         6768|https://i.ytimg.c...|20.10|       animals|\n",
      "|--JinobXWPk|DANGEROUS Jungle ...|Brave Wilderness|         15|adventure|adventu...|1319945|38949|     533|         6768|https://i.ytimg.c...|20.10|      breaking|\n",
      "|--JinobXWPk|DANGEROUS Jungle ...|Brave Wilderness|         15|adventure|adventu...|1319945|38949|     533|         6768|https://i.ytimg.c...|20.10|breaking trail|\n",
      "+-----------+--------------------+----------------+-----------+--------------------+-------+-----+--------+-------------+--------------------+-----+--------------+\n",
      "only showing top 5 rows\n",
      "\n"
     ]
    }
   ],
   "source": [
    "# сортируем видео у которых есть тег cat\n",
    "videos_drop_dubl_spl_tags.show(5)"
   ]
  },
  {
   "cell_type": "code",
   "execution_count": 61,
   "id": "9350f59b-c571-49a7-8981-6a953c453174",
   "metadata": {},
   "outputs": [
    {
     "data": {
      "text/plain": [
       "43165"
      ]
     },
     "execution_count": 61,
     "metadata": {},
     "output_type": "execute_result"
    }
   ],
   "source": [
    "videos_drop_dubl_spl_tags.count()"
   ]
  },
  {
   "cell_type": "code",
   "execution_count": 62,
   "id": "811879f6-909a-4199-a7d3-8a885db8dbbf",
   "metadata": {},
   "outputs": [
    {
     "data": {
      "text/plain": [
       "17"
      ]
     },
     "execution_count": 62,
     "metadata": {},
     "output_type": "execute_result"
    }
   ],
   "source": [
    "# отбираем видео с тегами про котов\n",
    "videos_cat_tag = videos_drop_dubl_spl_tags.where(lower((col(\"Tag\"))) == \"cat\")\n",
    "videos_cat_tag.count()"
   ]
  },
  {
   "cell_type": "code",
   "execution_count": 66,
   "id": "fcc859ce-9881-4431-821d-981b56285d9d",
   "metadata": {},
   "outputs": [
    {
     "name": "stdout",
     "output_type": "stream",
     "text": [
      "+-----------+-------------------------------------------------------------------------------------------------------------------------------------------------------------------------------------------------------------------------------------------------------------------------------------------------------------------------------------------------------------------------------------------------------------------------------------------------------------+\n",
      "|video_id   |tags                                                                                                                                                                                                                                                                                                                                                                                                                                                         |\n",
      "+-----------+-------------------------------------------------------------------------------------------------------------------------------------------------------------------------------------------------------------------------------------------------------------------------------------------------------------------------------------------------------------------------------------------------------------------------------------------------------------+\n",
      "|7V1J_MDi9Lg|Husky's First Howl|cat|dog|dogs|funny dogs|funny cat                                                                                                                                                                                                                                                                                                                                                                                                         |\n",
      "|xbBMVa2A68s|cat|dog|cute|gaming|overwatch|runescape|osrs                                                                                                                                                                                                                                                                                                                                                                                                                 |\n",
      "|-1fzGnFwz9M|cartoon|simons cat|simon's cat|simonscat|simon tofield|simon the cat|funny cats|cute cats|cat fails|family friendly|animated animals|short animation|animated cats|tofield|simon's katze|simon|cat|black and white|kitty|traditional animation|black and white cat|Кот Саймона|cat lovers|animal (film character)|fail|funny cat|cats|cute|kitten|kittens|pets|simons cats|Cat|Simon|Tofield|cartoons|Toons|Animated|Animation|Kitten|Funny|Humour|fun|videos|\n",
      "|-1fzGnFwz9M|cartoon|simons cat|simon's cat|simonscat|simon tofield|simon the cat|funny cats|cute cats|cat fails|family friendly|animated animals|short animation|animated cats|tofield|simon's katze|simon|cat|black and white|kitty|traditional animation|black and white cat|Кот Саймона|cat lovers|animal (film character)|fail|funny cat|cats|cute|kitten|kittens|pets|simons cats|Cat|Simon|Tofield|cartoons|Toons|Animated|Animation|Kitten|Funny|Humour|fun|videos|\n",
      "|S9VIKOuZcds|cat|feline|pets|beloved|family member|grief|grieving|kitty                                                                                                                                                                                                                                                                                                                                                                                                   |\n",
      "+-----------+-------------------------------------------------------------------------------------------------------------------------------------------------------------------------------------------------------------------------------------------------------------------------------------------------------------------------------------------------------------------------------------------------------------------------------------------------------------+\n",
      "only showing top 5 rows\n",
      "\n"
     ]
    }
   ],
   "source": [
    "videos_cat_tag.select('video_id', 'tags').show(5, False)"
   ]
  },
  {
   "cell_type": "code",
   "execution_count": null,
   "id": "de7e4ca7-eb57-4d0e-b342-3614008372bd",
   "metadata": {},
   "outputs": [],
   "source": [
    "+-----------+-------------------------------------------------------------------------------------------------------------------------------------------------------------------------------------------------------------------------------------------------------------------------------------------------------------------------------------------------------------------------------------------------------------------------------------------------------------+\n",
    "|video_id   |tags                                                                                                                                                                                                                                                                                                                                                                                                                                                         |\n",
    "+-----------+-------------------------------------------------------------------------------------------------------------------------------------------------------------------------------------------------------------------------------------------------------------------------------------------------------------------------------------------------------------------------------------------------------------------------------------------------------------+\n",
    "|7V1J_MDi9Lg|Husky's First Howl|cat|dog|dogs|funny dogs|funny cat                                                                                                                                                                                                                                                                                                                                                                                                         |\n",
    "|xbBMVa2A68s|cat|dog|cute|gaming|overwatch|runescape|osrs                                                                                                                                                                                                                                                                                                                                                                                                                 |\n",
    "|-1fzGnFwz9M|cartoon|simons cat|simon's cat|simonscat|simon tofield|simon the cat|funny cats|cute cats|cat fails|family friendly|animated animals|short animation|animated cats|tofield|simon's katze|simon|cat|black and white|kitty|traditional animation|black and white cat|Кот Саймона|cat lovers|animal (film character)|fail|funny cat|cats|cute|kitten|kittens|pets|simons cats|Cat|Simon|Tofield|cartoons|Toons|Animated|Animation|Kitten|Funny|Humour|fun|videos|\n",
    "|-1fzGnFwz9M|cartoon|simons cat|simon's cat|simonscat|simon tofield|simon the cat|funny cats|cute cats|cat fails|family friendly|animated animals|short animation|animated cats|tofield|simon's katze|simon|cat|black and white|kitty|traditional animation|black and white cat|Кот Саймона|cat lovers|animal (film character)|fail|funny cat|cats|cute|kitten|kittens|pets|simons cats|Cat|Simon|Tofield|cartoons|Toons|Animated|Animation|Kitten|Funny|Humour|fun|videos|\n",
    "|S9VIKOuZcds|cat|feline|pets|beloved|family member|grief|grieving|kitty                                                                                                                                                                                                                                                                                                                                                                                                   |\n",
    "+-----------+-------------------------------------------------------------------------------------------------------------------------------------------------------------------------------------------------------------------------------------------------------------------------------------------------------------------------------------------------------------------------------------------------------------------------------------------------------------+\n",
    "only showing top 5 rows"
   ]
  },
  {
   "cell_type": "code",
   "execution_count": 70,
   "id": "717ec1c9-7265-408a-af80-d25b5d03c1a4",
   "metadata": {},
   "outputs": [
    {
     "data": {
      "text/plain": [
       "691722"
      ]
     },
     "execution_count": 70,
     "metadata": {},
     "output_type": "execute_result"
    }
   ],
   "source": [
    "comments.count()"
   ]
  },
  {
   "cell_type": "code",
   "execution_count": 72,
   "id": "20099b73-0602-4cae-ae40-1f25b21a3132",
   "metadata": {},
   "outputs": [],
   "source": [
    "import math\n",
    "import mmh3\n",
    "from bitarray import bitarray\n",
    "  \n",
    "  \n",
    "class BloomFilter(object):\n",
    "  \n",
    "    '''\n",
    "    Class for Bloom filter, using murmur3 hash function\n",
    "    '''\n",
    "  \n",
    "    def __init__(self, items_count, fp_prob):\n",
    "        '''\n",
    "        items_count : int\n",
    "            Number of items expected to be stored in bloom filter\n",
    "        fp_prob : float\n",
    "            False Positive probability in decimal\n",
    "        '''\n",
    "        self.items_count = items_count\n",
    "        \n",
    "        # False possible probability in decimal\n",
    "        self.fp_prob = fp_prob\n",
    "  \n",
    "        # Size of bit array to use\n",
    "        self.size = self.get_size(items_count, fp_prob)\n",
    "  \n",
    "        # number of hash functions to use\n",
    "        self.hash_count = self.get_hash_count(self.size, items_count)\n",
    "  \n",
    "        # Bit array of given size\n",
    "        self.bit_array = bitarray(self.size)\n",
    "  \n",
    "        # initialize all bits as 0\n",
    "        self.bit_array.setall(0)\n",
    "  \n",
    "    def add(self, item):\n",
    "        '''\n",
    "        Add an item in the filter\n",
    "        '''\n",
    "        digests = []\n",
    "        for i in range(self.hash_count):\n",
    "  \n",
    "            # create digest for given item.\n",
    "            # i work as seed to mmh3.hash() function\n",
    "            # With different seed, digest created is different\n",
    "            digest = mmh3.hash(item, i) % self.size\n",
    "            digests.append(digest)\n",
    "  \n",
    "            # set the bit True in bit_array\n",
    "            self.bit_array[digest] = True\n",
    "        \n",
    "    def union(self, other):\n",
    "        \"\"\" Calculates the union of the two underlying bitarrays and returns\n",
    "        a new bloom filter object.\"\"\"\n",
    "        new_bloom = self.copy()\n",
    "        new_bloom.bit_array = new_bloom.bit_array | other.bit_array\n",
    "        return new_bloom\n",
    "  \n",
    "    def check(self, item):\n",
    "        '''\n",
    "        Check for existence of an item in filter\n",
    "        '''\n",
    "        for i in range(self.hash_count):\n",
    "            digest = mmh3.hash(item, i) % self.size\n",
    "            if self.bit_array[digest] == False:\n",
    "  \n",
    "                # if any of bit is False then,its not present\n",
    "                # in filter\n",
    "                # else there is probability that it exist\n",
    "                return False\n",
    "        return True\n",
    "    \n",
    "    def copy(self):\n",
    "        \"\"\"Return a copy of this bloom filter.\n",
    "        \"\"\"\n",
    "        new_filter = BloomFilter(self.items_count, self.fp_prob)\n",
    "        new_filter.bit_array = self.bit_array.copy()\n",
    "        return new_filter\n",
    "    \n",
    "    def set_bit_array(self, bit_array):\n",
    "        self.bit_array = bit_array\n",
    "  \n",
    "    @classmethod\n",
    "    def get_size(self, n, p):\n",
    "        '''\n",
    "        Return the size of bit array(m) to used using\n",
    "        following formula\n",
    "        m = -(n * lg(p)) / (lg(2)^2)\n",
    "        n : int\n",
    "            number of items expected to be stored in filter\n",
    "        p : float\n",
    "            False Positive probability in decimal\n",
    "        '''\n",
    "        m = -(n * math.log(p))/(math.log(2)**2)\n",
    "        return int(m)\n",
    "  \n",
    "    @classmethod\n",
    "    def get_hash_count(self, m, n):\n",
    "        '''\n",
    "        Return the hash function(k) to be used using\n",
    "        following formula\n",
    "        k = (m/n) * lg(2)\n",
    "  \n",
    "        m : int\n",
    "            size of bit array\n",
    "        n : int\n",
    "            number of items expected to be stored in filter\n",
    "        '''\n",
    "        k = (m/n) * math.log(2)\n",
    "        return int(k)"
   ]
  },
  {
   "cell_type": "code",
   "execution_count": 74,
   "id": "6b20846c-161d-4938-b286-22def8c55f21",
   "metadata": {},
   "outputs": [],
   "source": [
    "# используем фильтр Блума для того чтобы предварительно отсортировать большой датасет с комментариями \n",
    "\n",
    "filterSize = 691722\n",
    "prob = 0.05\n",
    "\n",
    "def fill_bloom_filter(bf, items):\n",
    "    for i in items:\n",
    "        bf.add(str(i[0]))\n",
    "    return bf\n",
    "\n",
    "bloom_filter = BloomFilter(filterSize, prob)\n",
    "\n",
    "general_bit_array = comments.select(col('video_id')).rdd \\\n",
    "    .mapPartitions(lambda p: [fill_bloom_filter(BloomFilter(filterSize, prob), p).bit_array]) \\\n",
    "    .reduce(lambda a, b: a.bit_array | b.bit_array)\n",
    "\n",
    "bloom_filter.set_bit_array(general_bit_array)\n",
    "\n",
    "maybe_in_bf = udf(lambda video_id: bloom_filter.check(str(video_id)))"
   ]
  },
  {
   "cell_type": "code",
   "execution_count": 75,
   "id": "843a5c09-8c01-4af9-9f93-37c6d3f65293",
   "metadata": {},
   "outputs": [
    {
     "data": {
      "text/plain": [
       "5901"
      ]
     },
     "execution_count": 75,
     "metadata": {},
     "output_type": "execute_result"
    }
   ],
   "source": [
    "# отбираем комментарии у к видео про котов\n",
    "video_cat_tag_comments = comments.filter(maybe_in_bf(col('video_id')) == True) \\\n",
    "                                 .join(videos_cat_tag, \"video_id\", \"inner\")\n",
    "video_cat_tag_comments.count()"
   ]
  },
  {
   "cell_type": "code",
   "execution_count": 76,
   "id": "67c67e81-495b-4bf9-84bb-370a271c18c5",
   "metadata": {},
   "outputs": [
    {
     "name": "stdout",
     "output_type": "stream",
     "text": [
      "+----------------------------------------------------------------------------------+-----+\n",
      "|comment_text                                                                      |likes|\n",
      "+----------------------------------------------------------------------------------+-----+\n",
      "|The second I read this title in my notification, I started to giggle.             |2355 |\n",
      "|talk about the ocean sunfish build                                                |1070 |\n",
      "|talk about the ocean sunfish build                                                |1021 |\n",
      "|talk about the ocean sunfish build                                                |957  |\n",
      "|I make interesting cartoons and I need your help! Go to the channel, rate my work!|839  |\n",
      "+----------------------------------------------------------------------------------+-----+\n",
      "only showing top 5 rows\n",
      "\n"
     ]
    }
   ],
   "source": [
    "# отображаем топ 5 комментариев по количеству лайков к видео про котов\n",
    "video_cat_tag_comments.orderBy(comments[\"likes\"].desc()).select(\"comment_text\", comments[\"likes\"]).show(5, False)"
   ]
  },
  {
   "cell_type": "code",
   "execution_count": 77,
   "id": "b55db784-e383-47ea-8bb6-b50c7185f040",
   "metadata": {},
   "outputs": [],
   "source": [
    "spark.stop()"
   ]
  },
  {
   "cell_type": "code",
   "execution_count": null,
   "id": "c0ae7f6c-7503-4488-a53f-f286e9787e9b",
   "metadata": {},
   "outputs": [],
   "source": []
  }
 ],
 "metadata": {
  "kernelspec": {
   "display_name": "Python 3 (ipykernel)",
   "language": "python",
   "name": "python3"
  },
  "language_info": {
   "codemirror_mode": {
    "name": "ipython",
    "version": 3
   },
   "file_extension": ".py",
   "mimetype": "text/x-python",
   "name": "python",
   "nbconvert_exporter": "python",
   "pygments_lexer": "ipython3",
   "version": "3.11.3"
  }
 },
 "nbformat": 4,
 "nbformat_minor": 5
}
